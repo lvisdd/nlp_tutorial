{
  "nbformat": 4,
  "nbformat_minor": 0,
  "metadata": {
    "colab": {
      "name": "Stanza.ipynb",
      "provenance": [],
      "collapsed_sections": [],
      "authorship_tag": "ABX9TyOKzaex5vpcHd65Eswah+3J",
      "include_colab_link": true
    },
    "kernelspec": {
      "name": "python3",
      "display_name": "Python 3"
    }
  },
  "cells": [
    {
      "cell_type": "markdown",
      "metadata": {
        "id": "view-in-github",
        "colab_type": "text"
      },
      "source": [
        "<a href=\"https://colab.research.google.com/github/lvisdd/nlp_tutorial/blob/master/Stanza.ipynb\" target=\"_parent\"><img src=\"https://colab.research.google.com/assets/colab-badge.svg\" alt=\"Open In Colab\"/></a>"
      ]
    },
    {
      "cell_type": "markdown",
      "metadata": {
        "id": "n-kuWiPaizjf",
        "colab_type": "text"
      },
      "source": [
        "# [Stanza - A Python NLP Library for Many Human Languages](https://stanfordnlp.github.io/stanza/)"
      ]
    },
    {
      "cell_type": "code",
      "metadata": {
        "id": "I-2R-kYJiqiE",
        "colab_type": "code",
        "outputId": "bc67c5a1-25af-4a30-d652-0167ffa38f1e",
        "colab": {
          "base_uri": "https://localhost:8080/",
          "height": 295
        }
      },
      "source": [
        "!pip install stanza"
      ],
      "execution_count": 0,
      "outputs": [
        {
          "output_type": "stream",
          "text": [
            "Collecting stanza\n",
            "\u001b[?25l  Downloading https://files.pythonhosted.org/packages/11/98/a118044151c5f84709d6db43e0344205b42bca316ca89a2fa838987ab698/stanza-1.0.0-py3-none-any.whl (189kB)\n",
            "\r\u001b[K     |█▊                              | 10kB 15.8MB/s eta 0:00:01\r\u001b[K     |███▌                            | 20kB 1.8MB/s eta 0:00:01\r\u001b[K     |█████▏                          | 30kB 2.6MB/s eta 0:00:01\r\u001b[K     |███████                         | 40kB 1.7MB/s eta 0:00:01\r\u001b[K     |████████▋                       | 51kB 2.0MB/s eta 0:00:01\r\u001b[K     |██████████▍                     | 61kB 2.4MB/s eta 0:00:01\r\u001b[K     |████████████                    | 71kB 2.8MB/s eta 0:00:01\r\u001b[K     |█████████████▉                  | 81kB 3.2MB/s eta 0:00:01\r\u001b[K     |███████████████▌                | 92kB 3.6MB/s eta 0:00:01\r\u001b[K     |█████████████████▎              | 102kB 2.8MB/s eta 0:00:01\r\u001b[K     |███████████████████             | 112kB 2.8MB/s eta 0:00:01\r\u001b[K     |████████████████████▊           | 122kB 2.8MB/s eta 0:00:01\r\u001b[K     |██████████████████████▍         | 133kB 2.8MB/s eta 0:00:01\r\u001b[K     |████████████████████████▏       | 143kB 2.8MB/s eta 0:00:01\r\u001b[K     |██████████████████████████      | 153kB 2.8MB/s eta 0:00:01\r\u001b[K     |███████████████████████████▋    | 163kB 2.8MB/s eta 0:00:01\r\u001b[K     |█████████████████████████████▍  | 174kB 2.8MB/s eta 0:00:01\r\u001b[K     |███████████████████████████████ | 184kB 2.8MB/s eta 0:00:01\r\u001b[K     |████████████████████████████████| 194kB 2.8MB/s \n",
            "\u001b[?25hRequirement already satisfied: protobuf in /usr/local/lib/python3.6/dist-packages (from stanza) (3.10.0)\n",
            "Requirement already satisfied: torch>=1.2.0 in /usr/local/lib/python3.6/dist-packages (from stanza) (1.4.0)\n",
            "Requirement already satisfied: numpy in /usr/local/lib/python3.6/dist-packages (from stanza) (1.18.2)\n",
            "Requirement already satisfied: requests in /usr/local/lib/python3.6/dist-packages (from stanza) (2.21.0)\n",
            "Requirement already satisfied: tqdm in /usr/local/lib/python3.6/dist-packages (from stanza) (4.38.0)\n",
            "Requirement already satisfied: six>=1.9 in /usr/local/lib/python3.6/dist-packages (from protobuf->stanza) (1.12.0)\n",
            "Requirement already satisfied: setuptools in /usr/local/lib/python3.6/dist-packages (from protobuf->stanza) (46.0.0)\n",
            "Requirement already satisfied: urllib3<1.25,>=1.21.1 in /usr/local/lib/python3.6/dist-packages (from requests->stanza) (1.24.3)\n",
            "Requirement already satisfied: idna<2.9,>=2.5 in /usr/local/lib/python3.6/dist-packages (from requests->stanza) (2.8)\n",
            "Requirement already satisfied: chardet<3.1.0,>=3.0.2 in /usr/local/lib/python3.6/dist-packages (from requests->stanza) (3.0.4)\n",
            "Requirement already satisfied: certifi>=2017.4.17 in /usr/local/lib/python3.6/dist-packages (from requests->stanza) (2019.11.28)\n",
            "Installing collected packages: stanza\n",
            "Successfully installed stanza-1.0.0\n"
          ],
          "name": "stdout"
        }
      ]
    },
    {
      "cell_type": "markdown",
      "metadata": {
        "id": "Qf5MKR2YjlOn",
        "colab_type": "text"
      },
      "source": [
        "## English"
      ]
    },
    {
      "cell_type": "code",
      "metadata": {
        "id": "UcJ4rLIwjBRn",
        "colab_type": "code",
        "outputId": "a8635b39-69d5-4e7b-cbfb-ca5cdeee2b78",
        "colab": {
          "base_uri": "https://localhost:8080/",
          "height": 399
        }
      },
      "source": [
        "import stanza\n",
        "stanza.download('en') # download English model\n",
        "nlp = stanza.Pipeline('en') # initialize English neural pipeline\n",
        "doc = nlp(\"Barack Obama was born in Hawaii.\") # run annotation over a sentence"
      ],
      "execution_count": 0,
      "outputs": [
        {
          "output_type": "stream",
          "text": [
            "Downloading https://raw.githubusercontent.com/stanfordnlp/stanza-resources/master/resources_1.0.0.json: 116kB [00:00, 17.5MB/s]                    \n",
            "2020-03-20 10:45:34 INFO: Downloading default packages for language: en (English)...\n",
            "Downloading http://nlp.stanford.edu/software/stanza/1.0.0/en/default.zip: 100%|██████████| 402M/402M [00:45<00:00, 8.77MB/s]\n",
            "2020-03-20 10:46:28 INFO: Finished downloading models and saved to /root/stanza_resources.\n",
            "2020-03-20 10:46:28 INFO: Loading these models for language: en (English):\n",
            "=========================\n",
            "| Processor | Package   |\n",
            "-------------------------\n",
            "| tokenize  | ewt       |\n",
            "| pos       | ewt       |\n",
            "| lemma     | ewt       |\n",
            "| depparse  | ewt       |\n",
            "| ner       | ontonotes |\n",
            "=========================\n",
            "\n",
            "2020-03-20 10:46:28 INFO: Use device: cpu\n",
            "2020-03-20 10:46:28 INFO: Loading: tokenize\n",
            "2020-03-20 10:46:28 INFO: Loading: pos\n",
            "2020-03-20 10:46:29 INFO: Loading: lemma\n",
            "2020-03-20 10:46:29 INFO: Loading: depparse\n",
            "2020-03-20 10:46:31 INFO: Loading: ner\n",
            "2020-03-20 10:46:32 INFO: Done loading processors!\n"
          ],
          "name": "stderr"
        }
      ]
    },
    {
      "cell_type": "code",
      "metadata": {
        "id": "1Xj397ypjGz6",
        "colab_type": "code",
        "outputId": "eee474fd-af37-4a79-b5e0-a9691649f720",
        "colab": {
          "base_uri": "https://localhost:8080/",
          "height": 1000
        }
      },
      "source": [
        "print(doc)"
      ],
      "execution_count": 0,
      "outputs": [
        {
          "output_type": "stream",
          "text": [
            "[\n",
            "  [\n",
            "    {\n",
            "      \"id\": \"1\",\n",
            "      \"text\": \"Barack\",\n",
            "      \"lemma\": \"Barack\",\n",
            "      \"upos\": \"PROPN\",\n",
            "      \"xpos\": \"NNP\",\n",
            "      \"feats\": \"Number=Sing\",\n",
            "      \"head\": 4,\n",
            "      \"deprel\": \"nsubj:pass\",\n",
            "      \"misc\": \"start_char=0|end_char=6\"\n",
            "    },\n",
            "    {\n",
            "      \"id\": \"2\",\n",
            "      \"text\": \"Obama\",\n",
            "      \"lemma\": \"Obama\",\n",
            "      \"upos\": \"PROPN\",\n",
            "      \"xpos\": \"NNP\",\n",
            "      \"feats\": \"Number=Sing\",\n",
            "      \"head\": 1,\n",
            "      \"deprel\": \"flat\",\n",
            "      \"misc\": \"start_char=7|end_char=12\"\n",
            "    },\n",
            "    {\n",
            "      \"id\": \"3\",\n",
            "      \"text\": \"was\",\n",
            "      \"lemma\": \"be\",\n",
            "      \"upos\": \"AUX\",\n",
            "      \"xpos\": \"VBD\",\n",
            "      \"feats\": \"Mood=Ind|Number=Sing|Person=3|Tense=Past|VerbForm=Fin\",\n",
            "      \"head\": 4,\n",
            "      \"deprel\": \"aux:pass\",\n",
            "      \"misc\": \"start_char=13|end_char=16\"\n",
            "    },\n",
            "    {\n",
            "      \"id\": \"4\",\n",
            "      \"text\": \"born\",\n",
            "      \"lemma\": \"bear\",\n",
            "      \"upos\": \"VERB\",\n",
            "      \"xpos\": \"VBN\",\n",
            "      \"feats\": \"Tense=Past|VerbForm=Part|Voice=Pass\",\n",
            "      \"head\": 0,\n",
            "      \"deprel\": \"root\",\n",
            "      \"misc\": \"start_char=17|end_char=21\"\n",
            "    },\n",
            "    {\n",
            "      \"id\": \"5\",\n",
            "      \"text\": \"in\",\n",
            "      \"lemma\": \"in\",\n",
            "      \"upos\": \"ADP\",\n",
            "      \"xpos\": \"IN\",\n",
            "      \"head\": 6,\n",
            "      \"deprel\": \"case\",\n",
            "      \"misc\": \"start_char=22|end_char=24\"\n",
            "    },\n",
            "    {\n",
            "      \"id\": \"6\",\n",
            "      \"text\": \"Hawaii\",\n",
            "      \"lemma\": \"Hawaii\",\n",
            "      \"upos\": \"PROPN\",\n",
            "      \"xpos\": \"NNP\",\n",
            "      \"feats\": \"Number=Sing\",\n",
            "      \"head\": 4,\n",
            "      \"deprel\": \"obl\",\n",
            "      \"misc\": \"start_char=25|end_char=31\"\n",
            "    },\n",
            "    {\n",
            "      \"id\": \"7\",\n",
            "      \"text\": \".\",\n",
            "      \"lemma\": \".\",\n",
            "      \"upos\": \"PUNCT\",\n",
            "      \"xpos\": \".\",\n",
            "      \"head\": 4,\n",
            "      \"deprel\": \"punct\",\n",
            "      \"misc\": \"start_char=31|end_char=32\"\n",
            "    }\n",
            "  ]\n",
            "]\n"
          ],
          "name": "stdout"
        }
      ]
    },
    {
      "cell_type": "code",
      "metadata": {
        "id": "SoGVWZDcjLL3",
        "colab_type": "code",
        "outputId": "61ade139-c351-49a2-e282-063ede0849dd",
        "colab": {
          "base_uri": "https://localhost:8080/",
          "height": 208
        }
      },
      "source": [
        "print(doc.entities)"
      ],
      "execution_count": 0,
      "outputs": [
        {
          "output_type": "stream",
          "text": [
            "[{\n",
            "  \"text\": \"Barack Obama\",\n",
            "  \"type\": \"PERSON\",\n",
            "  \"start_char\": 0,\n",
            "  \"end_char\": 12\n",
            "}, {\n",
            "  \"text\": \"Hawaii\",\n",
            "  \"type\": \"GPE\",\n",
            "  \"start_char\": 25,\n",
            "  \"end_char\": 31\n",
            "}]\n"
          ],
          "name": "stdout"
        }
      ]
    },
    {
      "cell_type": "markdown",
      "metadata": {
        "id": "YUXYhcb7jptH",
        "colab_type": "text"
      },
      "source": [
        "## Japanese"
      ]
    },
    {
      "cell_type": "code",
      "metadata": {
        "id": "zYuOuLFkjsHX",
        "colab_type": "code",
        "outputId": "62e08b00-8e81-4758-b21f-e7915c56e41a",
        "colab": {
          "base_uri": "https://localhost:8080/",
          "height": 364
        }
      },
      "source": [
        "stanza.download('ja') # download English model\n",
        "nlp = stanza.Pipeline('ja') # initialize English neural pipeline\n",
        "doc = nlp(\"麻生太郎はコーヒーを買って飲んだ。\") # run annotation over a sentence"
      ],
      "execution_count": 0,
      "outputs": [
        {
          "output_type": "stream",
          "text": [
            "Downloading https://raw.githubusercontent.com/stanfordnlp/stanza-resources/master/resources_1.0.0.json: 116kB [00:00, 9.45MB/s]                    \n",
            "2020-03-20 10:54:17 INFO: Downloading default packages for language: ja (Japanese)...\n",
            "Downloading http://nlp.stanford.edu/software/stanza/1.0.0/ja/default.zip: 100%|██████████| 220M/220M [00:21<00:00, 10.0MB/s]\n",
            "2020-03-20 10:54:43 INFO: Finished downloading models and saved to /root/stanza_resources.\n",
            "2020-03-20 10:54:44 INFO: Loading these models for language: ja (Japanese):\n",
            "=======================\n",
            "| Processor | Package |\n",
            "-----------------------\n",
            "| tokenize  | gsd     |\n",
            "| pos       | gsd     |\n",
            "| lemma     | gsd     |\n",
            "| depparse  | gsd     |\n",
            "=======================\n",
            "\n",
            "2020-03-20 10:54:44 INFO: Use device: cpu\n",
            "2020-03-20 10:54:44 INFO: Loading: tokenize\n",
            "2020-03-20 10:54:44 INFO: Loading: pos\n",
            "2020-03-20 10:54:45 INFO: Loading: lemma\n",
            "2020-03-20 10:54:45 INFO: Loading: depparse\n",
            "2020-03-20 10:54:46 INFO: Done loading processors!\n"
          ],
          "name": "stderr"
        }
      ]
    },
    {
      "cell_type": "code",
      "metadata": {
        "id": "UOgvOSHBjvtn",
        "colab_type": "code",
        "outputId": "0df19347-6303-4ab4-897b-08c6a6e5db46",
        "colab": {
          "base_uri": "https://localhost:8080/",
          "height": 1000
        }
      },
      "source": [
        "print(doc)"
      ],
      "execution_count": 0,
      "outputs": [
        {
          "output_type": "stream",
          "text": [
            "[\n",
            "  [\n",
            "    {\n",
            "      \"id\": \"1\",\n",
            "      \"text\": \"麻生\",\n",
            "      \"lemma\": \"麻生\",\n",
            "      \"upos\": \"PROPN\",\n",
            "      \"xpos\": \"NNP\",\n",
            "      \"head\": 2,\n",
            "      \"deprel\": \"compound\",\n",
            "      \"misc\": \"start_char=0|end_char=2\"\n",
            "    },\n",
            "    {\n",
            "      \"id\": \"2\",\n",
            "      \"text\": \"太郎\",\n",
            "      \"lemma\": \"太郎\",\n",
            "      \"upos\": \"PROPN\",\n",
            "      \"xpos\": \"NNP\",\n",
            "      \"head\": 8,\n",
            "      \"deprel\": \"nsubj\",\n",
            "      \"misc\": \"start_char=2|end_char=4\"\n",
            "    },\n",
            "    {\n",
            "      \"id\": \"3\",\n",
            "      \"text\": \"は\",\n",
            "      \"lemma\": \"は\",\n",
            "      \"upos\": \"ADP\",\n",
            "      \"xpos\": \"PK\",\n",
            "      \"head\": 2,\n",
            "      \"deprel\": \"case\",\n",
            "      \"misc\": \"start_char=4|end_char=5\"\n",
            "    },\n",
            "    {\n",
            "      \"id\": \"4\",\n",
            "      \"text\": \"コーヒー\",\n",
            "      \"lemma\": \"コーヒー\",\n",
            "      \"upos\": \"NOUN\",\n",
            "      \"xpos\": \"NN\",\n",
            "      \"head\": 6,\n",
            "      \"deprel\": \"obj\",\n",
            "      \"misc\": \"start_char=5|end_char=9\"\n",
            "    },\n",
            "    {\n",
            "      \"id\": \"5\",\n",
            "      \"text\": \"を\",\n",
            "      \"lemma\": \"を\",\n",
            "      \"upos\": \"ADP\",\n",
            "      \"xpos\": \"PS\",\n",
            "      \"head\": 4,\n",
            "      \"deprel\": \"case\",\n",
            "      \"misc\": \"start_char=9|end_char=10\"\n",
            "    },\n",
            "    {\n",
            "      \"id\": \"6\",\n",
            "      \"text\": \"買っ\",\n",
            "      \"lemma\": \"買う\",\n",
            "      \"upos\": \"VERB\",\n",
            "      \"xpos\": \"VV\",\n",
            "      \"head\": 8,\n",
            "      \"deprel\": \"advcl\",\n",
            "      \"misc\": \"start_char=10|end_char=12\"\n",
            "    },\n",
            "    {\n",
            "      \"id\": \"7\",\n",
            "      \"text\": \"て\",\n",
            "      \"lemma\": \"て\",\n",
            "      \"upos\": \"SCONJ\",\n",
            "      \"xpos\": \"PC\",\n",
            "      \"head\": 6,\n",
            "      \"deprel\": \"mark\",\n",
            "      \"misc\": \"start_char=12|end_char=13\"\n",
            "    },\n",
            "    {\n",
            "      \"id\": \"8\",\n",
            "      \"text\": \"飲ん\",\n",
            "      \"lemma\": \"飲む\",\n",
            "      \"upos\": \"VERB\",\n",
            "      \"xpos\": \"VV\",\n",
            "      \"head\": 0,\n",
            "      \"deprel\": \"root\",\n",
            "      \"misc\": \"start_char=13|end_char=15\"\n",
            "    },\n",
            "    {\n",
            "      \"id\": \"9\",\n",
            "      \"text\": \"だ\",\n",
            "      \"lemma\": \"だ\",\n",
            "      \"upos\": \"AUX\",\n",
            "      \"xpos\": \"AV\",\n",
            "      \"head\": 8,\n",
            "      \"deprel\": \"cop\",\n",
            "      \"misc\": \"start_char=15|end_char=16\"\n",
            "    },\n",
            "    {\n",
            "      \"id\": \"10\",\n",
            "      \"text\": \"。\",\n",
            "      \"lemma\": \"。\",\n",
            "      \"upos\": \"PUNCT\",\n",
            "      \"xpos\": \"SYM\",\n",
            "      \"head\": 8,\n",
            "      \"deprel\": \"punct\",\n",
            "      \"misc\": \"start_char=16|end_char=17\"\n",
            "    }\n",
            "  ]\n",
            "]\n"
          ],
          "name": "stdout"
        }
      ]
    },
    {
      "cell_type": "code",
      "metadata": {
        "id": "PFsTuPsCjxgp",
        "colab_type": "code",
        "outputId": "bc97e99a-0b47-4020-abf4-88ea17d0a1d5",
        "colab": {
          "base_uri": "https://localhost:8080/",
          "height": 34
        }
      },
      "source": [
        "print(doc.entities)"
      ],
      "execution_count": 0,
      "outputs": [
        {
          "output_type": "stream",
          "text": [
            "[]\n"
          ],
          "name": "stdout"
        }
      ]
    },
    {
      "cell_type": "code",
      "metadata": {
        "id": "R2hUgEsOl4PA",
        "colab_type": "code",
        "colab": {}
      },
      "source": [
        "doc = nlp(\"こんにちは！\") # run annotation over a sentence"
      ],
      "execution_count": 0,
      "outputs": []
    },
    {
      "cell_type": "code",
      "metadata": {
        "id": "ZW34hCEXl9of",
        "colab_type": "code",
        "outputId": "718b42a8-3460-42e3-f5c6-4c20b56d5565",
        "colab": {
          "base_uri": "https://localhost:8080/",
          "height": 607
        }
      },
      "source": [
        "print(doc)"
      ],
      "execution_count": 0,
      "outputs": [
        {
          "output_type": "stream",
          "text": [
            "[\n",
            "  [\n",
            "    {\n",
            "      \"id\": \"1\",\n",
            "      \"text\": \"こんにち\",\n",
            "      \"lemma\": \"こんにち\",\n",
            "      \"upos\": \"ADV\",\n",
            "      \"xpos\": \"RB\",\n",
            "      \"head\": 0,\n",
            "      \"deprel\": \"root\",\n",
            "      \"misc\": \"start_char=0|end_char=4\"\n",
            "    },\n",
            "    {\n",
            "      \"id\": \"2\",\n",
            "      \"text\": \"は\",\n",
            "      \"lemma\": \"は\",\n",
            "      \"upos\": \"ADP\",\n",
            "      \"xpos\": \"PK\",\n",
            "      \"head\": 1,\n",
            "      \"deprel\": \"case\",\n",
            "      \"misc\": \"start_char=4|end_char=5\"\n",
            "    },\n",
            "    {\n",
            "      \"id\": \"3\",\n",
            "      \"text\": \"！\",\n",
            "      \"lemma\": \"！\",\n",
            "      \"upos\": \"PUNCT\",\n",
            "      \"xpos\": \"SYM\",\n",
            "      \"head\": 1,\n",
            "      \"deprel\": \"punct\",\n",
            "      \"misc\": \"start_char=5|end_char=6\"\n",
            "    }\n",
            "  ]\n",
            "]\n"
          ],
          "name": "stdout"
        }
      ]
    },
    {
      "cell_type": "code",
      "metadata": {
        "id": "FN92_pWbmBIf",
        "colab_type": "code",
        "outputId": "5cd346e6-3742-43a7-de88-d40f16bfd15a",
        "colab": {
          "base_uri": "https://localhost:8080/",
          "height": 34
        }
      },
      "source": [
        "print(doc.entities)"
      ],
      "execution_count": 0,
      "outputs": [
        {
          "output_type": "stream",
          "text": [
            "[]\n"
          ],
          "name": "stdout"
        }
      ]
    }
  ]
}