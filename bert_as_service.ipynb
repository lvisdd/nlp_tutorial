{
  "nbformat": 4,
  "nbformat_minor": 0,
  "metadata": {
    "colab": {
      "name": "bert-as-service.ipynb",
      "provenance": [],
      "collapsed_sections": [],
      "authorship_tag": "ABX9TyMa6p4Cjcm2tZilshUDMCuK",
      "include_colab_link": true
    },
    "kernelspec": {
      "name": "python3",
      "display_name": "Python 3"
    },
    "accelerator": "GPU"
  },
  "cells": [
    {
      "cell_type": "markdown",
      "metadata": {
        "id": "view-in-github",
        "colab_type": "text"
      },
      "source": [
        "<a href=\"https://colab.research.google.com/github/lvisdd/nlp_tutorial/blob/master/bert_as_service.ipynb\" target=\"_parent\"><img src=\"https://colab.research.google.com/assets/colab-badge.svg\" alt=\"Open In Colab\"/></a>"
      ]
    },
    {
      "cell_type": "markdown",
      "metadata": {
        "id": "cEsltXlebBID",
        "colab_type": "text"
      },
      "source": [
        "# [bert-as-service ](https://bert-as-service.readthedocs.io/en/latest/index.html)"
      ]
    },
    {
      "cell_type": "markdown",
      "metadata": {
        "id": "ZJAyiq71brfa",
        "colab_type": "text"
      },
      "source": [
        "## Installation"
      ]
    },
    {
      "cell_type": "code",
      "metadata": {
        "id": "2vp1DmOVa0Ng",
        "colab_type": "code",
        "outputId": "00f12420-1e78-465f-f916-fa84e345b9b8",
        "colab": {
          "base_uri": "https://localhost:8080/",
          "height": 577
        }
      },
      "source": [
        "!pip install -U bert-serving-server bert-serving-client"
      ],
      "execution_count": 0,
      "outputs": [
        {
          "output_type": "stream",
          "text": [
            "Collecting bert-serving-server\n",
            "\u001b[?25l  Downloading https://files.pythonhosted.org/packages/b0/bd/cab677bbd0c5fb08b72e468371d2bca6ed9507785739b4656b0b5470d90b/bert_serving_server-1.10.0-py3-none-any.whl (61kB)\n",
            "\r\u001b[K     |█████▎                          | 10kB 23.7MB/s eta 0:00:01\r\u001b[K     |██████████▋                     | 20kB 2.1MB/s eta 0:00:01\r\u001b[K     |████████████████                | 30kB 3.1MB/s eta 0:00:01\r\u001b[K     |█████████████████████▎          | 40kB 2.1MB/s eta 0:00:01\r\u001b[K     |██████████████████████████▋     | 51kB 2.5MB/s eta 0:00:01\r\u001b[K     |███████████████████████████████▉| 61kB 3.0MB/s eta 0:00:01\r\u001b[K     |████████████████████████████████| 71kB 2.8MB/s \n",
            "\u001b[?25hCollecting bert-serving-client\n",
            "  Downloading https://files.pythonhosted.org/packages/1f/09/aae1405378a848b2e87769ad89a43d6d71978c4e15534ca48e82e723a72f/bert_serving_client-1.10.0-py2.py3-none-any.whl\n",
            "Requirement already satisfied, skipping upgrade: numpy in /usr/local/lib/python3.6/dist-packages (from bert-serving-server) (1.17.5)\n",
            "Requirement already satisfied, skipping upgrade: six in /usr/local/lib/python3.6/dist-packages (from bert-serving-server) (1.12.0)\n",
            "Collecting pyzmq>=17.1.0\n",
            "\u001b[?25l  Downloading https://files.pythonhosted.org/packages/94/07/cee3d328a2e13f9de1c2b62cced7a389b61ac81424f2e377f3dc9d668282/pyzmq-18.1.1-cp36-cp36m-manylinux1_x86_64.whl (1.1MB)\n",
            "\u001b[K     |████████████████████████████████| 1.1MB 9.9MB/s \n",
            "\u001b[?25hRequirement already satisfied, skipping upgrade: termcolor>=1.1 in /usr/local/lib/python3.6/dist-packages (from bert-serving-server) (1.1.0)\n",
            "Collecting GPUtil>=1.3.0\n",
            "  Downloading https://files.pythonhosted.org/packages/ed/0e/5c61eedde9f6c87713e89d794f01e378cfd9565847d4576fa627d758c554/GPUtil-1.4.0.tar.gz\n",
            "Building wheels for collected packages: GPUtil\n",
            "  Building wheel for GPUtil (setup.py) ... \u001b[?25l\u001b[?25hdone\n",
            "  Created wheel for GPUtil: filename=GPUtil-1.4.0-cp36-none-any.whl size=7413 sha256=ea6a700c6067cdb106ff8ca6874fce8e63fc36f6795876aef32707ae9d9364e3\n",
            "  Stored in directory: /root/.cache/pip/wheels/3d/77/07/80562de4bb0786e5ea186911a2c831fdd0018bda69beab71fd\n",
            "Successfully built GPUtil\n",
            "Installing collected packages: pyzmq, GPUtil, bert-serving-server, bert-serving-client\n",
            "  Found existing installation: pyzmq 17.0.0\n",
            "    Uninstalling pyzmq-17.0.0:\n",
            "      Successfully uninstalled pyzmq-17.0.0\n",
            "Successfully installed GPUtil-1.4.0 bert-serving-client-1.10.0 bert-serving-server-1.10.0 pyzmq-18.1.1\n"
          ],
          "name": "stdout"
        },
        {
          "output_type": "display_data",
          "data": {
            "application/vnd.colab-display-data+json": {
              "pip_warning": {
                "packages": [
                  "zmq"
                ]
              }
            }
          },
          "metadata": {
            "tags": []
          }
        }
      ]
    },
    {
      "cell_type": "markdown",
      "metadata": {
        "id": "a2y9EBWsbvmK",
        "colab_type": "text"
      },
      "source": [
        "## Download a Pre-trained BERT Model"
      ]
    },
    {
      "cell_type": "code",
      "metadata": {
        "id": "65kTrDKGb1-6",
        "colab_type": "code",
        "outputId": "94b6779a-8059-41eb-b2e3-a451e7e78299",
        "colab": {
          "base_uri": "https://localhost:8080/",
          "height": 330
        }
      },
      "source": [
        "!wget https://storage.googleapis.com/bert_models/2018_10_18/uncased_L-12_H-768_A-12.zip\n",
        "!unzip uncased_L-12_H-768_A-12.zip"
      ],
      "execution_count": 0,
      "outputs": [
        {
          "output_type": "stream",
          "text": [
            "--2020-02-11 09:32:05--  https://storage.googleapis.com/bert_models/2018_10_18/uncased_L-12_H-768_A-12.zip\n",
            "Resolving storage.googleapis.com (storage.googleapis.com)... 74.125.124.128, 2607:f8b0:4001:c14::80\n",
            "Connecting to storage.googleapis.com (storage.googleapis.com)|74.125.124.128|:443... connected.\n",
            "HTTP request sent, awaiting response... 200 OK\n",
            "Length: 407727028 (389M) [application/zip]\n",
            "Saving to: ‘uncased_L-12_H-768_A-12.zip’\n",
            "\n",
            "uncased_L-12_H-768_ 100%[===================>] 388.84M   289MB/s    in 1.3s    \n",
            "\n",
            "2020-02-11 09:32:06 (289 MB/s) - ‘uncased_L-12_H-768_A-12.zip’ saved [407727028/407727028]\n",
            "\n",
            "Archive:  uncased_L-12_H-768_A-12.zip\n",
            "   creating: uncased_L-12_H-768_A-12/\n",
            "  inflating: uncased_L-12_H-768_A-12/bert_model.ckpt.meta  \n",
            "  inflating: uncased_L-12_H-768_A-12/bert_model.ckpt.data-00000-of-00001  \n",
            "  inflating: uncased_L-12_H-768_A-12/vocab.txt  \n",
            "  inflating: uncased_L-12_H-768_A-12/bert_model.ckpt.index  \n",
            "  inflating: uncased_L-12_H-768_A-12/bert_config.json  \n"
          ],
          "name": "stdout"
        }
      ]
    },
    {
      "cell_type": "markdown",
      "metadata": {
        "id": "nUlPsUDZc_q6",
        "colab_type": "text"
      },
      "source": [
        "## Start the BERT service"
      ]
    },
    {
      "cell_type": "code",
      "metadata": {
        "id": "bjssYAlTcMoz",
        "colab_type": "code",
        "outputId": "da450aa9-c61f-4720-b703-3359b3ef0ff7",
        "colab": {
          "base_uri": "https://localhost:8080/",
          "height": 34
        }
      },
      "source": [
        "#%set_env port_num=3399"
      ],
      "execution_count": 0,
      "outputs": [
        {
          "output_type": "stream",
          "text": [
            "env: port_num='3399'\n"
          ],
          "name": "stdout"
        }
      ]
    },
    {
      "cell_type": "code",
      "metadata": {
        "id": "y2VH1mJgdRN8",
        "colab_type": "code",
        "colab": {}
      },
      "source": [
        "#import os\n",
        "#os.environ['port_num'] = 3399"
      ],
      "execution_count": 0,
      "outputs": []
    },
    {
      "cell_type": "code",
      "metadata": {
        "id": "2kGq7rxzdhSL",
        "colab_type": "code",
        "colab": {}
      },
      "source": [
        "#port_num=3399"
      ],
      "execution_count": 0,
      "outputs": []
    },
    {
      "cell_type": "code",
      "metadata": {
        "id": "lEZIcrqLdCtT",
        "colab_type": "code",
        "colab": {}
      },
      "source": [
        "#get_ipython().system_raw(\n",
        "#    'bert-serving-start -model_dir=./uncased_L-12_H-768_A-12 -http_port ' + port_num + ' &'\n",
        "#)"
      ],
      "execution_count": 0,
      "outputs": []
    },
    {
      "cell_type": "code",
      "metadata": {
        "id": "UGTpLEVagxls",
        "colab_type": "code",
        "colab": {}
      },
      "source": [
        "#get_ipython().system_raw(\n",
        "#    'bert-serving-start -model_dir=./uncased_L-12_H-768_A-12 &'\n",
        "#)"
      ],
      "execution_count": 0,
      "outputs": []
    },
    {
      "cell_type": "code",
      "metadata": {
        "id": "QuvL3mqWPG3C",
        "colab_type": "code",
        "colab": {}
      },
      "source": [
        "get_ipython().system_raw(\n",
        "    'bert-serving-start -model_dir=./uncased_L-12_H-768_A-12 -max_seq_len=100 &'\n",
        ")"
      ],
      "execution_count": 0,
      "outputs": []
    },
    {
      "cell_type": "markdown",
      "metadata": {
        "id": "VXLgr6xhdxkK",
        "colab_type": "text"
      },
      "source": [
        "## Use Client to Get Sentence Encodes"
      ]
    },
    {
      "cell_type": "code",
      "metadata": {
        "id": "l1jl2FBKeOhz",
        "colab_type": "code",
        "outputId": "b4315210-d1fb-4326-8a0f-a0ec524b7164",
        "colab": {
          "base_uri": "https://localhost:8080/",
          "height": 121
        }
      },
      "source": [
        "from bert_serving.client import BertClient\n",
        "bc = BertClient()\n",
        "bc.encode(['First do it', 'then do it right', 'then do it better'])"
      ],
      "execution_count": 0,
      "outputs": [
        {
          "output_type": "execute_result",
          "data": {
            "text/plain": [
              "array([[ 0.13186473,  0.3240413 , -0.8270442 , ..., -0.37119558,\n",
              "        -0.3925014 , -0.31721824],\n",
              "       [ 0.24873519, -0.12334398, -0.38933873, ..., -0.4475621 ,\n",
              "        -0.55913544, -0.11345214],\n",
              "       [ 0.2862734 , -0.18580161, -0.30906805, ..., -0.2959367 ,\n",
              "        -0.39310482,  0.07640206]], dtype=float32)"
            ]
          },
          "metadata": {
            "tags": []
          },
          "execution_count": 4
        }
      ]
    },
    {
      "cell_type": "code",
      "metadata": {
        "id": "cSNb7-1Lm-oW",
        "colab_type": "code",
        "outputId": "94da3db2-987d-4d22-bfcd-0a7659e44fe1",
        "colab": {
          "base_uri": "https://localhost:8080/",
          "height": 1000
        }
      },
      "source": [
        "bc.encode(['First do it ||| then do it right'])"
      ],
      "execution_count": 0,
      "outputs": [
        {
          "output_type": "execute_result",
          "data": {
            "text/plain": [
              "array([[-5.04764207e-02, -4.87896465e-02, -4.83553946e-01,\n",
              "        -3.42729002e-01, -1.14914596e-01,  1.62610084e-01,\n",
              "         2.15244696e-01,  3.63936335e-01,  3.03730547e-01,\n",
              "        -4.82231438e-01, -4.92260978e-02, -1.86318129e-01,\n",
              "        -1.67600453e-01, -2.55926102e-01, -9.69771266e-01,\n",
              "         6.47908688e-01, -3.97496432e-01, -2.62127399e-01,\n",
              "         3.59476097e-02,  2.64713317e-01, -2.11805612e-01,\n",
              "         3.13155830e-01, -4.49802965e-01, -7.70868212e-02,\n",
              "         2.49953479e-01, -3.49985451e-01,  1.01401970e-01,\n",
              "        -4.91841733e-01, -1.98673591e-01,  2.33609274e-01,\n",
              "         3.21059167e-01, -2.94979364e-01, -1.78063363e-01,\n",
              "        -1.19715810e-01,  1.49329454e-01,  4.04064000e-01,\n",
              "         4.29855287e-01,  7.30632842e-02, -4.05314118e-01,\n",
              "         6.16671517e-02, -5.23368835e-01, -3.88182580e-01,\n",
              "        -2.52037078e-01, -4.18566555e-01, -1.22309878e-01,\n",
              "        -3.84358615e-01, -6.28783032e-02,  7.63056427e-02,\n",
              "         3.56707647e-02, -5.75757980e-01, -8.97077084e-01,\n",
              "         7.11734593e-02, -2.45786428e-01, -5.80638647e-02,\n",
              "        -2.74653822e-01,  3.07208151e-01, -1.62430793e-01,\n",
              "         4.24342781e-01, -5.59586763e-01, -1.52007148e-01,\n",
              "        -3.83540332e-01, -2.41918206e-01,  7.31754899e-02,\n",
              "        -3.19370389e-01,  1.59245908e-01, -5.28045833e-01,\n",
              "         3.62667702e-02,  1.10428774e+00, -5.15008926e-01,\n",
              "        -7.70921260e-02, -7.03501105e-01, -3.02387476e-01,\n",
              "         4.67924535e-01,  2.53899336e-01, -6.69533685e-02,\n",
              "        -3.97073507e-01, -4.47419554e-01,  1.60276189e-01,\n",
              "        -1.47554770e-01, -5.91056421e-03,  3.10649816e-02,\n",
              "         2.26235032e-01, -2.39544541e-01,  3.39233667e-01,\n",
              "        -1.33440942e-01, -1.26758635e-01, -2.09146030e-02,\n",
              "        -2.97665417e-01, -3.04058075e-01, -1.30268801e-02,\n",
              "         1.17460951e-01, -2.02547863e-01, -2.82637626e-01,\n",
              "        -3.92482579e-01,  9.59579367e-03, -6.51351884e-02,\n",
              "         1.32500961e-01,  8.61488432e-02, -1.34880602e-01,\n",
              "        -4.60816845e-02,  3.27321142e-01, -9.89751816e-01,\n",
              "         3.60231325e-02, -1.32711560e-01,  4.21983242e-01,\n",
              "         4.72227722e-01,  3.24860036e-01, -1.23921588e-01,\n",
              "         4.28988636e-01,  2.65539348e-01,  1.34454295e-02,\n",
              "         1.36955753e-01,  2.01954693e-01, -8.55436698e-02,\n",
              "         5.92158362e-02,  2.84995049e-01, -3.65431190e-01,\n",
              "         4.07694206e-02, -1.62081569e-01, -3.61321509e-01,\n",
              "        -4.30752039e-01, -2.16261148e-01, -2.94016451e-01,\n",
              "         1.39700204e-01,  2.17273474e-01,  9.84985083e-02,\n",
              "        -1.95564300e-01,  6.76040530e-01,  3.20951864e-02,\n",
              "        -6.14267528e-01,  3.99035901e-01,  1.59693852e-01,\n",
              "         7.10782886e-01, -4.57395166e-01, -3.72150600e-01,\n",
              "         3.32283199e-01,  3.53665411e-01,  2.12302849e-01,\n",
              "        -3.90388757e-01, -1.01570904e-01, -5.53079434e-02,\n",
              "        -6.54095933e-02,  3.22264642e-01,  1.59613967e-01,\n",
              "         8.83450329e-01, -2.54555643e-01,  3.82492281e-02,\n",
              "        -5.72326005e-01,  2.53733814e-01,  5.04646182e-01,\n",
              "        -2.29625508e-01,  1.35210901e-01, -1.89752460e-01,\n",
              "        -8.09706509e-01, -7.06247985e-01, -3.55716288e-01,\n",
              "        -3.39851715e-02, -2.83998787e-01,  5.82584552e-02,\n",
              "        -2.31287196e-01,  3.40482891e-01,  1.35545492e-01,\n",
              "         4.60508108e-01,  3.06708515e-01, -2.46757716e-02,\n",
              "        -1.34242733e-03, -8.27617049e-02,  4.60486084e-01,\n",
              "        -1.27592072e-01, -1.29885316e-01, -5.54088168e-02,\n",
              "        -1.42040819e-01,  2.55147308e-01,  5.59639752e-01,\n",
              "         2.76255906e-01, -3.40858214e-02, -2.84029484e-01,\n",
              "        -3.09973598e-01,  8.25632140e-02,  5.41571856e-01,\n",
              "        -9.03629959e-01,  4.77635950e-01, -1.75915956e-01,\n",
              "        -2.86744572e-02, -3.15968454e-01,  2.61357933e-01,\n",
              "         7.61848211e-01, -3.77215445e-01, -1.89323470e-01,\n",
              "         8.68218064e-01, -5.62691968e-03,  1.85228318e-01,\n",
              "        -8.92433077e-02, -1.98240772e-01,  2.50539035e-01,\n",
              "        -4.36007172e-01, -3.81687075e-01,  7.28694648e-02,\n",
              "        -6.32825673e-01,  3.31470430e-01,  5.46588421e-01,\n",
              "         1.14628181e-01,  2.58114904e-01, -5.24698377e-01,\n",
              "         2.48086862e-02,  4.11605507e-01,  1.55043185e-01,\n",
              "        -9.85636264e-02,  4.72109439e-03,  5.48254788e-01,\n",
              "        -7.48927712e-01,  5.78369975e-01, -1.21276632e-01,\n",
              "         2.43777901e-01,  9.24433917e-02,  7.13557974e-02,\n",
              "        -1.08761273e-01,  2.30335981e-01,  1.88199535e-01,\n",
              "         3.80730689e-01,  2.24006847e-01, -4.28775132e-01,\n",
              "        -1.39136225e-01,  5.14754534e-01, -1.31295264e-01,\n",
              "         2.45013878e-01, -2.58608460e-02,  1.86310023e-01,\n",
              "        -5.62312663e-01, -2.29978964e-01, -3.22521895e-01,\n",
              "         1.09064594e-01,  4.55519147e-02, -1.68950766e-01,\n",
              "         4.65201633e-03, -1.80546910e-01,  6.11520484e-02,\n",
              "        -2.78195404e-02, -3.42268258e-01, -3.48126404e-02,\n",
              "        -1.74197122e-01,  6.00053258e-02, -7.18660653e-02,\n",
              "         4.82263088e-01,  2.33246848e-01,  1.99484155e-01,\n",
              "         6.54414371e-02, -6.96541846e-01,  5.93639970e-01,\n",
              "         2.58909851e-01, -5.77980220e-01, -3.16222757e-01,\n",
              "        -3.32523286e-01, -4.25646693e-01, -2.13916823e-01,\n",
              "        -7.72625804e-01, -3.98563921e-01, -1.63470775e-01,\n",
              "        -7.03273118e-01, -4.48886633e-01,  1.40954241e-01,\n",
              "         1.24253534e-01,  2.03541800e-01, -1.22541394e-02,\n",
              "        -1.93225071e-02,  4.81292093e-03,  3.90171826e-01,\n",
              "         1.52418539e-01, -1.60993904e-01, -4.49742489e-02,\n",
              "        -4.02635813e-01, -7.72108957e-02,  5.12000978e-01,\n",
              "         1.28716260e-01, -3.69693846e-01, -3.37239206e-01,\n",
              "         4.40401256e-01,  3.77929598e-01,  1.54844314e-01,\n",
              "        -2.66474783e-01, -1.04306437e-01,  2.85045803e-01,\n",
              "        -4.33577836e-01,  4.61309284e-01,  7.19144404e-01,\n",
              "         1.73254371e-01,  1.89079210e-01, -1.77464704e-03,\n",
              "        -2.40180016e-01, -2.15768620e-01, -2.44147629e-01,\n",
              "         1.99313890e-02, -2.26926565e-01, -7.56713927e-01,\n",
              "         6.76837265e-01, -4.33502376e-01, -3.38199914e-01,\n",
              "         3.89442265e-01, -4.38689947e-01, -2.21760005e-01,\n",
              "        -3.94112170e-01,  6.14984870e-01,  2.43763417e-01,\n",
              "        -3.04593623e-01, -6.82922006e-01,  9.09321457e-02,\n",
              "        -4.23655510e-02, -5.50868213e-01, -7.40359259e+00,\n",
              "        -1.61638614e-02,  1.22349642e-01,  7.02436715e-02,\n",
              "         4.01563495e-01, -4.86139387e-01,  4.01433520e-02,\n",
              "         5.61724603e-01, -3.43990415e-01, -4.41266270e-03,\n",
              "        -3.01062223e-02, -3.87645066e-01, -2.10712954e-01,\n",
              "         4.45452273e-01, -1.67214908e-02,  1.78541765e-01,\n",
              "        -1.68408584e-02, -3.47359836e-01, -1.19607531e-01,\n",
              "         9.13120747e-01, -3.48683476e-01, -5.23323178e-01,\n",
              "         1.60033122e-01,  2.31806841e-02,  1.52030736e-01,\n",
              "         5.63392758e-01, -6.22901976e-01,  2.25363582e-01,\n",
              "        -3.57146002e-02, -2.49392226e-01,  9.85222086e-02,\n",
              "        -2.76602924e-01,  7.10817426e-02,  2.50679135e-01,\n",
              "        -4.22286659e-01, -3.60547960e-01,  2.43680000e-01,\n",
              "         3.73223983e-02,  3.03403586e-01,  3.29843223e-01,\n",
              "        -3.32803689e-02, -5.60959280e-01, -2.14439794e-01,\n",
              "         2.57003456e-01,  3.85896921e-01, -6.24067426e-01,\n",
              "         1.18285155e+00, -5.14544323e-02, -4.99579430e-01,\n",
              "        -1.41695309e-02,  3.01034808e-01,  2.08612174e-01,\n",
              "        -9.23993140e-02, -6.71614647e-01,  6.71248734e-02,\n",
              "        -8.78622290e-03,  4.39412892e-01,  3.52269232e-01,\n",
              "         6.84352994e-01, -2.45160349e-02,  6.35481626e-02,\n",
              "        -2.99978435e-01, -1.34098142e-01,  8.62786844e-02,\n",
              "         3.27152699e-01, -3.45698774e-01,  2.35906079e-01,\n",
              "        -4.72368807e-01, -2.52152234e-01,  1.58814505e-01,\n",
              "         3.69551539e-01,  1.62906259e-01, -4.56410572e-02,\n",
              "        -1.23972344e+00, -4.00097370e-01,  3.03157061e-01,\n",
              "         2.06205413e-01,  1.90678194e-01, -4.79578972e-02,\n",
              "        -2.49490976e-01, -7.32117891e-01, -8.40785205e-01,\n",
              "        -5.33924282e-01, -2.99693062e-03,  3.81456941e-01,\n",
              "         3.94507676e-01, -1.58457965e-01, -9.59153473e-01,\n",
              "         9.52308811e-03, -3.23988140e-01,  4.44294542e-01,\n",
              "         6.54498696e-01,  1.29722059e-01,  2.20536873e-01,\n",
              "         1.96580738e-01, -4.19808403e-02,  4.23105150e-01,\n",
              "        -4.23940808e-01, -7.98716843e-01, -5.13852298e-01,\n",
              "        -2.00187638e-01, -8.02450031e-02,  4.09810632e-01,\n",
              "         4.00853813e-01,  2.34328106e-01, -3.19561541e-01,\n",
              "        -3.48234475e-01,  3.11755836e-01,  2.86338627e-01,\n",
              "         4.70056236e-01,  1.15877725e-01,  2.62835592e-01,\n",
              "         2.76919544e-01,  6.73376262e-01, -4.22911584e-01,\n",
              "        -3.65294427e-01, -2.61962712e-01,  2.24583477e-01,\n",
              "         5.43165095e-02, -3.31104696e-01, -3.15931678e-01,\n",
              "         6.60740286e-02, -6.61035895e-01,  1.15730621e-01,\n",
              "         3.98343146e-01, -3.96808200e-02, -3.52700293e-01,\n",
              "        -2.13116959e-01, -2.49409795e-01,  3.30769837e-01,\n",
              "         1.80326141e-02,  1.44490842e-02, -1.13495871e-01,\n",
              "        -4.14086059e-02, -3.95953476e-01,  1.64107785e-01,\n",
              "         1.19831130e-01, -6.00653529e-01,  1.51731282e-01,\n",
              "         4.85555470e-01,  7.24987537e-02,  2.90186498e-02,\n",
              "        -2.23433331e-01,  1.77348271e-01,  1.42484710e-01,\n",
              "         7.25863278e-01, -4.94816929e-01, -7.39204523e-04,\n",
              "        -2.46516779e-01,  5.84190905e-01,  1.13794602e-01,\n",
              "        -1.95326313e-01, -7.57273063e-02, -4.39141601e-01,\n",
              "        -1.14158913e-01,  3.19281995e-01, -3.29531580e-01,\n",
              "        -2.92317182e-01,  1.65494949e-01, -2.59530008e-01,\n",
              "        -1.80348366e-01, -2.84969747e-01, -2.08944172e-01,\n",
              "         1.80451155e-01,  3.50012004e-01,  7.08451033e-01,\n",
              "        -4.26912367e-01,  6.59721643e-02, -5.86958706e-01,\n",
              "         8.85340124e-02,  2.04959199e-01, -5.72759449e-01,\n",
              "        -5.02987392e-02, -1.01943813e-01,  8.80229548e-02,\n",
              "         1.80507451e-01, -3.44791651e-01, -2.29787678e-01,\n",
              "        -4.98719066e-01,  2.92021453e-01,  4.81512509e-02,\n",
              "        -2.00692266e-01, -4.72926274e-02, -2.16834113e-01,\n",
              "         3.77576724e-02, -3.64457130e-01, -2.31796786e-01,\n",
              "         2.86982685e-01,  2.33828261e-01,  2.16019705e-01,\n",
              "         1.51939064e-01, -1.59381792e-01,  8.22732374e-02,\n",
              "        -1.12107590e-01,  1.06895164e-01, -2.06694409e-01,\n",
              "         3.79509360e-01,  3.13503385e-01, -5.06565731e-04,\n",
              "         1.54008836e-01, -4.28908542e-02, -1.07971214e-01,\n",
              "        -1.09528996e-01,  2.93812215e-01,  6.74499393e-01,\n",
              "         3.62686254e-02,  6.29468113e-02,  8.02469254e-01,\n",
              "        -1.55267060e-01, -3.47411543e-01,  3.42540622e-01,\n",
              "        -1.26055898e-02, -5.97091794e-01, -5.10189757e-02,\n",
              "        -8.68551612e-01,  6.23149388e-02, -4.55734432e-01,\n",
              "        -2.38784000e-01, -4.14970219e-01,  3.59839410e-01,\n",
              "        -1.47576407e-01,  1.02009224e-02,  1.35972783e-01,\n",
              "         4.83855069e-01,  2.10162163e-01, -3.78104419e-01,\n",
              "        -2.23940656e-01,  4.12456878e-02,  5.00169098e-01,\n",
              "         2.07084149e-01, -3.76131609e-02,  4.30609360e-02,\n",
              "        -2.24631459e-01, -4.79218304e-01, -9.84241813e-02,\n",
              "         6.67880028e-02, -1.58174038e-01,  8.87524635e-02,\n",
              "         8.65539461e-02, -1.52491421e-01, -2.85199553e-01,\n",
              "        -6.32226706e-01, -3.12227666e-01,  1.78563654e-01,\n",
              "         2.52112031e-01,  4.58980873e-02, -6.84755981e-01,\n",
              "         2.60831505e-01, -3.59472483e-01,  4.02395576e-01,\n",
              "         5.26910961e-01, -7.52505288e-02,  8.06475654e-02,\n",
              "        -2.50531018e-01,  7.34684393e-02, -6.83816224e-02,\n",
              "        -4.49710041e-01,  1.46163136e-01,  2.72584349e-01,\n",
              "         5.59766531e-01, -3.67793024e-01,  5.37023783e-01,\n",
              "         4.49327469e-01, -3.07136420e-02,  4.83722165e-02,\n",
              "         4.86557096e-01,  3.21429193e-01, -1.63253039e-01,\n",
              "         2.83665862e-02,  1.31356463e-01,  2.58612663e-01,\n",
              "        -2.67934918e-01,  2.11522840e-02, -3.12336862e-01,\n",
              "        -2.09544614e-01, -5.54152653e-02,  1.35304451e-01,\n",
              "        -3.59517157e-01,  1.60529256e-01,  5.28434590e-02,\n",
              "        -1.70037106e-01,  6.19025603e-02,  3.87304962e-01,\n",
              "         5.87306172e-03, -4.31714147e-01, -3.05691957e-01,\n",
              "        -3.42772037e-01, -7.24239945e-01, -2.84586728e-01,\n",
              "        -6.22432157e-02, -3.47114593e-01,  6.10656023e-01,\n",
              "         1.28979355e-01,  7.73211360e-01,  2.74116069e-01,\n",
              "         4.21004444e-01,  1.29371300e-01, -1.47774965e-02,\n",
              "        -6.04461357e-02, -1.94461584e-01,  1.90253228e-01,\n",
              "         1.25584841e-01, -1.68759555e-01,  2.36331135e-01,\n",
              "         2.13982418e-01,  6.61824822e-01,  9.32011455e-02,\n",
              "        -2.50482380e-01,  3.84900749e-01,  1.41895115e-01,\n",
              "        -5.99165857e-02, -4.87564385e-01,  3.33168000e-01,\n",
              "         2.97561884e-01, -5.61321080e-01,  1.34710044e-01,\n",
              "        -2.67272651e-01, -4.75619316e-01, -3.18863690e-01,\n",
              "         5.09927273e-01, -9.93558392e-02,  5.43394446e-01,\n",
              "         4.81799126e-01,  4.55004305e-01, -1.54532582e-01,\n",
              "         5.75332820e-01, -2.32462615e-01,  2.33076736e-01,\n",
              "         7.11256087e-01,  3.17575112e-02, -5.84526658e-01,\n",
              "         2.59492658e-02, -1.03950083e-01,  6.59786612e-02,\n",
              "        -2.29491834e-02, -2.42274255e-01,  3.83695483e-01,\n",
              "         8.52976963e-02,  3.08363497e-01,  4.53852892e-01,\n",
              "         4.25318152e-01,  7.33520836e-02,  5.25155425e-01,\n",
              "         3.34689349e-01, -2.01037139e-01, -4.38669771e-02,\n",
              "        -1.68875068e-01,  2.13348180e-01,  1.03660345e-01,\n",
              "         9.99794483e-01, -2.61046231e-01, -1.07348323e-01,\n",
              "         9.81685966e-02, -8.58244449e-02,  6.34391785e-01,\n",
              "         4.51113045e-01, -1.03273928e-01,  5.65166101e-02,\n",
              "        -3.41153532e-01,  2.26960033e-01, -5.90647683e-02,\n",
              "        -8.57426077e-02,  5.10800481e-01, -3.43987644e-01,\n",
              "        -1.19338535e-01,  9.68780369e-03,  3.57017219e-01,\n",
              "        -2.09313914e-01, -3.08310688e-01,  1.20006301e-01,\n",
              "        -1.72993869e-01,  3.58680159e-01,  4.20914471e-01,\n",
              "         3.44028994e-02,  2.02634305e-01, -2.84570456e-02,\n",
              "        -3.56973708e-01, -1.26398265e-01, -1.57385498e-01,\n",
              "        -1.92781433e-01, -2.84308374e-01, -2.90697694e-01,\n",
              "        -3.19330394e-01,  2.61022180e-01, -1.92258969e-01,\n",
              "        -2.24675778e-02, -4.01603758e-01, -3.41294438e-01,\n",
              "         4.11915302e-01, -2.24514231e-02, -5.34614399e-02,\n",
              "        -3.72779548e-01,  2.31060475e-01, -3.21997583e-01,\n",
              "        -1.47610396e-01, -8.49898160e-02, -5.37202477e-01,\n",
              "         1.94813982e-01,  3.98281246e-01, -4.33255062e-02,\n",
              "        -4.72656414e-02,  1.88172847e-01,  3.73954594e-01,\n",
              "        -3.41946274e-01, -3.08604062e-01,  3.71417701e-01,\n",
              "        -7.12381005e-01,  3.71581823e-01, -3.19600999e-01,\n",
              "        -1.96174294e-01, -3.48654598e-01,  5.78957379e-01,\n",
              "        -1.68487370e-01,  6.03868902e-01, -1.33972779e-01,\n",
              "        -2.59954274e-01, -2.58174717e-01, -7.05363035e-01,\n",
              "         2.93260157e-01,  1.48797780e-01, -9.89600793e-02,\n",
              "        -1.02455482e-01, -8.02413344e-01,  4.70520198e-01,\n",
              "        -3.40599924e-01, -2.50465900e-01,  1.05227791e-01,\n",
              "         3.00580263e-01, -3.39744300e-01, -3.93122435e-01,\n",
              "         1.51080340e-01, -6.99850097e-02,  2.40006167e-02,\n",
              "        -5.29508889e-02,  3.65969315e-02, -1.75830096e-01,\n",
              "        -5.40622994e-02,  1.06459379e-01,  2.67154396e-01,\n",
              "        -2.83159345e-01, -4.88806739e-02,  4.55453396e-01,\n",
              "        -6.56050563e-01,  2.04875797e-01, -4.97061253e-01,\n",
              "        -2.24411011e-01, -4.12554413e-01, -3.22530091e-01,\n",
              "         4.86728519e-01,  5.89432359e-01,  5.45742035e-01,\n",
              "        -1.43064603e-01, -2.28559777e-01, -8.45394656e-02,\n",
              "        -5.39655149e-01,  4.40739721e-01, -1.54862823e-02,\n",
              "        -4.41374719e-01, -1.95274800e-01, -4.06682342e-01]], dtype=float32)"
            ]
          },
          "metadata": {
            "tags": []
          },
          "execution_count": 7
        }
      ]
    },
    {
      "cell_type": "markdown",
      "metadata": {
        "id": "VuwypbHZpMGO",
        "colab_type": "text"
      },
      "source": [
        "## [Building a QA semantic search engine in 3 minutes](https://bert-as-service.readthedocs.io/en/latest/tutorial/simple-search.html)"
      ]
    },
    {
      "cell_type": "code",
      "metadata": {
        "id": "DAggjdLfn8Xt",
        "colab_type": "code",
        "outputId": "f296c5ce-5456-410f-ddf8-65a7c95b14d1",
        "colab": {
          "base_uri": "https://localhost:8080/",
          "height": 139
        }
      },
      "source": [
        "!git clone https://github.com/hanxiao/bert-as-service.git"
      ],
      "execution_count": 0,
      "outputs": [
        {
          "output_type": "stream",
          "text": [
            "Cloning into 'bert-as-service'...\n",
            "remote: Enumerating objects: 44, done.\u001b[K\n",
            "remote: Counting objects:   2% (1/44)\u001b[K\rremote: Counting objects:   4% (2/44)\u001b[K\rremote: Counting objects:   6% (3/44)\u001b[K\rremote: Counting objects:   9% (4/44)\u001b[K\rremote: Counting objects:  11% (5/44)\u001b[K\rremote: Counting objects:  13% (6/44)\u001b[K\rremote: Counting objects:  15% (7/44)\u001b[K\rremote: Counting objects:  18% (8/44)\u001b[K\rremote: Counting objects:  20% (9/44)\u001b[K\rremote: Counting objects:  22% (10/44)\u001b[K\rremote: Counting objects:  25% (11/44)\u001b[K\rremote: Counting objects:  27% (12/44)\u001b[K\rremote: Counting objects:  29% (13/44)\u001b[K\rremote: Counting objects:  31% (14/44)\u001b[K\rremote: Counting objects:  34% (15/44)\u001b[K\rremote: Counting objects:  36% (16/44)\u001b[K\rremote: Counting objects:  38% (17/44)\u001b[K\rremote: Counting objects:  40% (18/44)\u001b[K\rremote: Counting objects:  43% (19/44)\u001b[K\rremote: Counting objects:  45% (20/44)\u001b[K\rremote: Counting objects:  47% (21/44)\u001b[K\rremote: Counting objects:  50% (22/44)\u001b[K\rremote: Counting objects:  52% (23/44)\u001b[K\rremote: Counting objects:  54% (24/44)\u001b[K\rremote: Counting objects:  56% (25/44)\u001b[K\rremote: Counting objects:  59% (26/44)\u001b[K\rremote: Counting objects:  61% (27/44)\u001b[K\rremote: Counting objects:  63% (28/44)\u001b[K\rremote: Counting objects:  65% (29/44)\u001b[K\rremote: Counting objects:  68% (30/44)\u001b[K\rremote: Counting objects:  70% (31/44)\u001b[K\rremote: Counting objects:  72% (32/44)\u001b[K\rremote: Counting objects:  75% (33/44)\u001b[K\rremote: Counting objects:  77% (34/44)\u001b[K\rremote: Counting objects:  79% (35/44)\u001b[K\rremote: Counting objects:  81% (36/44)\u001b[K\rremote: Counting objects:  84% (37/44)\u001b[K\rremote: Counting objects:  86% (38/44)\u001b[K\rremote: Counting objects:  88% (39/44)\u001b[K\rremote: Counting objects:  90% (40/44)\u001b[K\rremote: Counting objects:  93% (41/44)\u001b[K\rremote: Counting objects:  95% (42/44)\u001b[K\rremote: Counting objects:  97% (43/44)\u001b[K\rremote: Counting objects: 100% (44/44)\u001b[K\rremote: Counting objects: 100% (44/44), done.\u001b[K\n",
            "remote: Compressing objects: 100% (38/38), done.\u001b[K\n",
            "remote: Total 7721 (delta 15), reused 21 (delta 6), pack-reused 7677\u001b[K\n",
            "Receiving objects: 100% (7721/7721), 8.76 MiB | 27.94 MiB/s, done.\n",
            "Resolving deltas: 100% (4681/4681), done.\n"
          ],
          "name": "stdout"
        }
      ]
    },
    {
      "cell_type": "code",
      "metadata": {
        "id": "9TmSQXu1pJYw",
        "colab_type": "code",
        "outputId": "01131539-89ad-4235-b450-a7e9441058dd",
        "colab": {
          "base_uri": "https://localhost:8080/",
          "height": 34
        }
      },
      "source": [
        "import numpy as np\n",
        "\n",
        "prefix_q = '##### **Q:** '\n",
        "with open('./bert-as-service/README.md') as fp:\n",
        "    questions = [v.replace(prefix_q, '').strip() for v in fp if v.strip() and v.startswith(prefix_q)]\n",
        "    print('%d questions loaded, avg. len of %d' % (len(questions), np.mean([len(d.split()) for d in questions])))"
      ],
      "execution_count": 0,
      "outputs": [
        {
          "output_type": "stream",
          "text": [
            "35 questions loaded, avg. len of 9\n"
          ],
          "name": "stdout"
        }
      ]
    },
    {
      "cell_type": "code",
      "metadata": {
        "id": "piMkZKc_qAke",
        "colab_type": "code",
        "colab": {}
      },
      "source": [
        "bc = BertClient(port=5555, port_out=5556)\n",
        "doc_vecs = bc.encode(questions)"
      ],
      "execution_count": 0,
      "outputs": []
    },
    {
      "cell_type": "code",
      "metadata": {
        "id": "PGRczD9mpgZm",
        "colab_type": "code",
        "outputId": "5fe7724e-a3f0-41e2-ef29-d3a131e3d5b9",
        "colab": {
          "base_uri": "https://localhost:8080/",
          "height": 698
        }
      },
      "source": [
        "topk = 5\n",
        "\n",
        "print(\"ex)\")\n",
        "print(\"your question: how is backend built?\")\n",
        "print(\"q(uit)\")\n",
        "\n",
        "while True:\n",
        "    query = input('your question: ')\n",
        "    \n",
        "    if query == 'q':\n",
        "        break\n",
        "    \n",
        "    query_vec = bc.encode([query])[0]\n",
        "    # compute normalized dot product as score\n",
        "    score = np.sum(query_vec * doc_vecs, axis=1) / np.linalg.norm(doc_vecs, axis=1)\n",
        "    topk_idx = np.argsort(score)[::-1][:topk]\n",
        "    for idx in topk_idx:\n",
        "        print('> %s\\t%s' % (score[idx], questions[idx]))"
      ],
      "execution_count": 0,
      "outputs": [
        {
          "output_type": "stream",
          "text": [
            "ex)\n",
            "your question: how is backend built?\n",
            "\n",
            "your question: how is backend built?\n",
            "> 10.947655\tWhat is backend based on?\n",
            "> 10.169287\tWhy does the server need two ports?\n",
            "> 10.118563\tWhat is the parallel processing model behind the scene?\n",
            "> 10.026584\tWhere is the BERT code come from?\n",
            "> 9.991119\tHow about the speed? Is it fast enough for production?\n"
          ],
          "name": "stdout"
        },
        {
          "output_type": "error",
          "ename": "KeyboardInterrupt",
          "evalue": "ignored",
          "traceback": [
            "\u001b[0;31m---------------------------------------------------------------------------\u001b[0m",
            "\u001b[0;31mKeyboardInterrupt\u001b[0m                         Traceback (most recent call last)",
            "\u001b[0;32m/usr/local/lib/python3.6/dist-packages/ipykernel/kernelbase.py\u001b[0m in \u001b[0;36m_input_request\u001b[0;34m(self, prompt, ident, parent, password)\u001b[0m\n\u001b[1;32m    729\u001b[0m             \u001b[0;32mtry\u001b[0m\u001b[0;34m:\u001b[0m\u001b[0;34m\u001b[0m\u001b[0;34m\u001b[0m\u001b[0m\n\u001b[0;32m--> 730\u001b[0;31m                 \u001b[0mident\u001b[0m\u001b[0;34m,\u001b[0m \u001b[0mreply\u001b[0m \u001b[0;34m=\u001b[0m \u001b[0mself\u001b[0m\u001b[0;34m.\u001b[0m\u001b[0msession\u001b[0m\u001b[0;34m.\u001b[0m\u001b[0mrecv\u001b[0m\u001b[0;34m(\u001b[0m\u001b[0mself\u001b[0m\u001b[0;34m.\u001b[0m\u001b[0mstdin_socket\u001b[0m\u001b[0;34m,\u001b[0m \u001b[0;36m0\u001b[0m\u001b[0;34m)\u001b[0m\u001b[0;34m\u001b[0m\u001b[0;34m\u001b[0m\u001b[0m\n\u001b[0m\u001b[1;32m    731\u001b[0m             \u001b[0;32mexcept\u001b[0m \u001b[0mException\u001b[0m\u001b[0;34m:\u001b[0m\u001b[0;34m\u001b[0m\u001b[0;34m\u001b[0m\u001b[0m\n",
            "\u001b[0;32m/usr/local/lib/python3.6/dist-packages/jupyter_client/session.py\u001b[0m in \u001b[0;36mrecv\u001b[0;34m(self, socket, mode, content, copy)\u001b[0m\n\u001b[1;32m    802\u001b[0m         \u001b[0;32mtry\u001b[0m\u001b[0;34m:\u001b[0m\u001b[0;34m\u001b[0m\u001b[0;34m\u001b[0m\u001b[0m\n\u001b[0;32m--> 803\u001b[0;31m             \u001b[0mmsg_list\u001b[0m \u001b[0;34m=\u001b[0m \u001b[0msocket\u001b[0m\u001b[0;34m.\u001b[0m\u001b[0mrecv_multipart\u001b[0m\u001b[0;34m(\u001b[0m\u001b[0mmode\u001b[0m\u001b[0;34m,\u001b[0m \u001b[0mcopy\u001b[0m\u001b[0;34m=\u001b[0m\u001b[0mcopy\u001b[0m\u001b[0;34m)\u001b[0m\u001b[0;34m\u001b[0m\u001b[0;34m\u001b[0m\u001b[0m\n\u001b[0m\u001b[1;32m    804\u001b[0m         \u001b[0;32mexcept\u001b[0m \u001b[0mzmq\u001b[0m\u001b[0;34m.\u001b[0m\u001b[0mZMQError\u001b[0m \u001b[0;32mas\u001b[0m \u001b[0me\u001b[0m\u001b[0;34m:\u001b[0m\u001b[0;34m\u001b[0m\u001b[0;34m\u001b[0m\u001b[0m\n",
            "\u001b[0;32m/usr/local/lib/python3.6/dist-packages/zmq/sugar/socket.py\u001b[0m in \u001b[0;36mrecv_multipart\u001b[0;34m(self, flags, copy, track)\u001b[0m\n\u001b[1;32m    465\u001b[0m         \u001b[0;34m-\u001b[0m\u001b[0;34m-\u001b[0m\u001b[0;34m-\u001b[0m\u001b[0;34m-\u001b[0m\u001b[0;34m-\u001b[0m\u001b[0;34m-\u001b[0m\u001b[0;34m-\u001b[0m\u001b[0;34m\u001b[0m\u001b[0;34m\u001b[0m\u001b[0m\n\u001b[0;32m--> 466\u001b[0;31m         \u001b[0mmsg_parts\u001b[0m \u001b[0;34m:\u001b[0m \u001b[0mlist\u001b[0m\u001b[0;34m\u001b[0m\u001b[0;34m\u001b[0m\u001b[0m\n\u001b[0m\u001b[1;32m    467\u001b[0m             \u001b[0mA\u001b[0m \u001b[0mlist\u001b[0m \u001b[0mof\u001b[0m \u001b[0mframes\u001b[0m \u001b[0;32min\u001b[0m \u001b[0mthe\u001b[0m \u001b[0mmultipart\u001b[0m \u001b[0mmessage\u001b[0m\u001b[0;34m;\u001b[0m \u001b[0meither\u001b[0m \u001b[0mFrames\u001b[0m \u001b[0;32mor\u001b[0m \u001b[0mbytes\u001b[0m\u001b[0;34m,\u001b[0m\u001b[0;34m\u001b[0m\u001b[0;34m\u001b[0m\u001b[0m\n",
            "\u001b[0;32mzmq/backend/cython/socket.pyx\u001b[0m in \u001b[0;36mzmq.backend.cython.socket.Socket.recv\u001b[0;34m()\u001b[0m\n",
            "\u001b[0;32mzmq/backend/cython/socket.pyx\u001b[0m in \u001b[0;36mzmq.backend.cython.socket.Socket.recv\u001b[0;34m()\u001b[0m\n",
            "\u001b[0;32mzmq/backend/cython/socket.pyx\u001b[0m in \u001b[0;36mzmq.backend.cython.socket._recv_copy\u001b[0;34m()\u001b[0m\n",
            "\u001b[0;32m/usr/local/lib/python3.6/dist-packages/zmq/backend/cython/checkrc.pxd\u001b[0m in \u001b[0;36mzmq.backend.cython.checkrc._check_rc\u001b[0;34m()\u001b[0m\n",
            "\u001b[0;31mKeyboardInterrupt\u001b[0m: ",
            "\nDuring handling of the above exception, another exception occurred:\n",
            "\u001b[0;31mKeyboardInterrupt\u001b[0m                         Traceback (most recent call last)",
            "\u001b[0;32m<ipython-input-16-d53cd2dd57a7>\u001b[0m in \u001b[0;36m<module>\u001b[0;34m()\u001b[0m\n\u001b[1;32m      6\u001b[0m \u001b[0;34m\u001b[0m\u001b[0m\n\u001b[1;32m      7\u001b[0m \u001b[0;32mwhile\u001b[0m \u001b[0;32mTrue\u001b[0m\u001b[0;34m:\u001b[0m\u001b[0;34m\u001b[0m\u001b[0;34m\u001b[0m\u001b[0m\n\u001b[0;32m----> 8\u001b[0;31m     \u001b[0mquery\u001b[0m \u001b[0;34m=\u001b[0m \u001b[0minput\u001b[0m\u001b[0;34m(\u001b[0m\u001b[0;34m'your question: '\u001b[0m\u001b[0;34m)\u001b[0m\u001b[0;34m\u001b[0m\u001b[0;34m\u001b[0m\u001b[0m\n\u001b[0m\u001b[1;32m      9\u001b[0m     \u001b[0mquery_vec\u001b[0m \u001b[0;34m=\u001b[0m \u001b[0mbc\u001b[0m\u001b[0;34m.\u001b[0m\u001b[0mencode\u001b[0m\u001b[0;34m(\u001b[0m\u001b[0;34m[\u001b[0m\u001b[0mquery\u001b[0m\u001b[0;34m]\u001b[0m\u001b[0;34m)\u001b[0m\u001b[0;34m[\u001b[0m\u001b[0;36m0\u001b[0m\u001b[0;34m]\u001b[0m\u001b[0;34m\u001b[0m\u001b[0;34m\u001b[0m\u001b[0m\n\u001b[1;32m     10\u001b[0m     \u001b[0;31m# compute normalized dot product as score\u001b[0m\u001b[0;34m\u001b[0m\u001b[0;34m\u001b[0m\u001b[0;34m\u001b[0m\u001b[0m\n",
            "\u001b[0;32m/usr/local/lib/python3.6/dist-packages/ipykernel/kernelbase.py\u001b[0m in \u001b[0;36mraw_input\u001b[0;34m(self, prompt)\u001b[0m\n\u001b[1;32m    703\u001b[0m             \u001b[0mself\u001b[0m\u001b[0;34m.\u001b[0m\u001b[0m_parent_ident\u001b[0m\u001b[0;34m,\u001b[0m\u001b[0;34m\u001b[0m\u001b[0;34m\u001b[0m\u001b[0m\n\u001b[1;32m    704\u001b[0m             \u001b[0mself\u001b[0m\u001b[0;34m.\u001b[0m\u001b[0m_parent_header\u001b[0m\u001b[0;34m,\u001b[0m\u001b[0;34m\u001b[0m\u001b[0;34m\u001b[0m\u001b[0m\n\u001b[0;32m--> 705\u001b[0;31m             \u001b[0mpassword\u001b[0m\u001b[0;34m=\u001b[0m\u001b[0;32mFalse\u001b[0m\u001b[0;34m,\u001b[0m\u001b[0;34m\u001b[0m\u001b[0;34m\u001b[0m\u001b[0m\n\u001b[0m\u001b[1;32m    706\u001b[0m         )\n\u001b[1;32m    707\u001b[0m \u001b[0;34m\u001b[0m\u001b[0m\n",
            "\u001b[0;32m/usr/local/lib/python3.6/dist-packages/ipykernel/kernelbase.py\u001b[0m in \u001b[0;36m_input_request\u001b[0;34m(self, prompt, ident, parent, password)\u001b[0m\n\u001b[1;32m    733\u001b[0m             \u001b[0;32mexcept\u001b[0m \u001b[0mKeyboardInterrupt\u001b[0m\u001b[0;34m:\u001b[0m\u001b[0;34m\u001b[0m\u001b[0;34m\u001b[0m\u001b[0m\n\u001b[1;32m    734\u001b[0m                 \u001b[0;31m# re-raise KeyboardInterrupt, to truncate traceback\u001b[0m\u001b[0;34m\u001b[0m\u001b[0;34m\u001b[0m\u001b[0;34m\u001b[0m\u001b[0m\n\u001b[0;32m--> 735\u001b[0;31m                 \u001b[0;32mraise\u001b[0m \u001b[0mKeyboardInterrupt\u001b[0m\u001b[0;34m\u001b[0m\u001b[0;34m\u001b[0m\u001b[0m\n\u001b[0m\u001b[1;32m    736\u001b[0m             \u001b[0;32melse\u001b[0m\u001b[0;34m:\u001b[0m\u001b[0;34m\u001b[0m\u001b[0;34m\u001b[0m\u001b[0m\n\u001b[1;32m    737\u001b[0m                 \u001b[0;32mbreak\u001b[0m\u001b[0;34m\u001b[0m\u001b[0;34m\u001b[0m\u001b[0m\n",
            "\u001b[0;31mKeyboardInterrupt\u001b[0m: "
          ]
        }
      ]
    }
  ]
}