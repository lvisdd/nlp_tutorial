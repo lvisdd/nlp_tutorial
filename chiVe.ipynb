{
  "nbformat": 4,
  "nbformat_minor": 0,
  "metadata": {
    "colab": {
      "name": "chiVe.ipynb",
      "provenance": [],
      "collapsed_sections": [],
      "machine_shape": "hm",
      "authorship_tag": "ABX9TyPgOsuMrsFqgE/nMcKLv5Se",
      "include_colab_link": true
    },
    "kernelspec": {
      "name": "python3",
      "display_name": "Python 3"
    }
  },
  "cells": [
    {
      "cell_type": "markdown",
      "metadata": {
        "id": "view-in-github",
        "colab_type": "text"
      },
      "source": [
        "<a href=\"https://colab.research.google.com/github/lvisdd/nlp_tutorial/blob/master/chiVe.ipynb\" target=\"_parent\"><img src=\"https://colab.research.google.com/assets/colab-badge.svg\" alt=\"Open In Colab\"/></a>"
      ]
    },
    {
      "cell_type": "markdown",
      "metadata": {
        "id": "SYJLVtEKMFtY",
        "colab_type": "text"
      },
      "source": [
        "# [Sudachiベースの学習済みWord2Vecモデルを使う](https://ohke.hateblo.jp/entry/2019/06/01/120000)"
      ]
    },
    {
      "cell_type": "markdown",
      "metadata": {
        "id": "5JTYyluZOydf",
        "colab_type": "text"
      },
      "source": [
        "## [chiVe: Japanese Word Embedding with Sudachi & NWJC](https://github.com/WorksApplications/chiVe)"
      ]
    },
    {
      "cell_type": "code",
      "metadata": {
        "id": "7Ko40Kw-Lysx",
        "colab_type": "code",
        "colab": {
          "base_uri": "https://localhost:8080/",
          "height": 208
        },
        "outputId": "664f30d1-ccae-46c4-d411-b738964e4b69"
      },
      "source": [
        "!wget https://object-storage.tyo2.conoha.io/v1/nc_2520839e1f9641b08211a5c85243124a/chive/chive-1.0-mc5-20190314.tar.gz"
      ],
      "execution_count": 1,
      "outputs": [
        {
          "output_type": "stream",
          "text": [
            "--2020-03-20 14:13:41--  https://object-storage.tyo2.conoha.io/v1/nc_2520839e1f9641b08211a5c85243124a/chive/chive-1.0-mc5-20190314.tar.gz\n",
            "Resolving object-storage.tyo2.conoha.io (object-storage.tyo2.conoha.io)... 157.7.224.17\n",
            "Connecting to object-storage.tyo2.conoha.io (object-storage.tyo2.conoha.io)|157.7.224.17|:443... connected.\n",
            "HTTP request sent, awaiting response... 200 OK\n",
            "Length: 5212199335 (4.9G) [application/x-tar]\n",
            "Saving to: ‘chive-1.0-mc5-20190314.tar.gz’\n",
            "\n",
            "chive-1.0-mc5-20190 100%[===================>]   4.85G  80.6MB/s    in 64s     \n",
            "\n",
            "2020-03-20 14:14:45 (77.6 MB/s) - ‘chive-1.0-mc5-20190314.tar.gz’ saved [5212199335/5212199335]\n",
            "\n"
          ],
          "name": "stdout"
        }
      ]
    },
    {
      "cell_type": "code",
      "metadata": {
        "id": "1UGAFuFpMSSP",
        "colab_type": "code",
        "colab": {
          "base_uri": "https://localhost:8080/",
          "height": 69
        },
        "outputId": "5fa1388e-338e-4de7-83e9-616be7075645"
      },
      "source": [
        "!tar -zxvf ./chive-1.0-mc5-20190314.tar.gz"
      ],
      "execution_count": 2,
      "outputs": [
        {
          "output_type": "stream",
          "text": [
            "chive-1.0-mc5-20190314.txt\n",
            "README.md\n",
            "LICENSE\n"
          ],
          "name": "stdout"
        }
      ]
    },
    {
      "cell_type": "code",
      "metadata": {
        "id": "Dn3HjMx-MfbP",
        "colab_type": "code",
        "colab": {
          "base_uri": "https://localhost:8080/",
          "height": 541
        },
        "outputId": "1430d236-2bb2-4fa6-fec7-6de00eb11f20"
      },
      "source": [
        "!pip install gensim"
      ],
      "execution_count": 3,
      "outputs": [
        {
          "output_type": "stream",
          "text": [
            "Requirement already satisfied: gensim in /usr/local/lib/python3.6/dist-packages (3.6.0)\n",
            "Requirement already satisfied: smart-open>=1.2.1 in /usr/local/lib/python3.6/dist-packages (from gensim) (1.10.0)\n",
            "Requirement already satisfied: scipy>=0.18.1 in /usr/local/lib/python3.6/dist-packages (from gensim) (1.4.1)\n",
            "Requirement already satisfied: numpy>=1.11.3 in /usr/local/lib/python3.6/dist-packages (from gensim) (1.18.2)\n",
            "Requirement already satisfied: six>=1.5.0 in /usr/local/lib/python3.6/dist-packages (from gensim) (1.12.0)\n",
            "Requirement already satisfied: requests in /usr/local/lib/python3.6/dist-packages (from smart-open>=1.2.1->gensim) (2.21.0)\n",
            "Requirement already satisfied: boto3 in /usr/local/lib/python3.6/dist-packages (from smart-open>=1.2.1->gensim) (1.12.23)\n",
            "Requirement already satisfied: google-cloud-storage in /usr/local/lib/python3.6/dist-packages (from smart-open>=1.2.1->gensim) (1.16.2)\n",
            "Requirement already satisfied: urllib3<1.25,>=1.21.1 in /usr/local/lib/python3.6/dist-packages (from requests->smart-open>=1.2.1->gensim) (1.24.3)\n",
            "Requirement already satisfied: certifi>=2017.4.17 in /usr/local/lib/python3.6/dist-packages (from requests->smart-open>=1.2.1->gensim) (2019.11.28)\n",
            "Requirement already satisfied: idna<2.9,>=2.5 in /usr/local/lib/python3.6/dist-packages (from requests->smart-open>=1.2.1->gensim) (2.8)\n",
            "Requirement already satisfied: chardet<3.1.0,>=3.0.2 in /usr/local/lib/python3.6/dist-packages (from requests->smart-open>=1.2.1->gensim) (3.0.4)\n",
            "Requirement already satisfied: s3transfer<0.4.0,>=0.3.0 in /usr/local/lib/python3.6/dist-packages (from boto3->smart-open>=1.2.1->gensim) (0.3.3)\n",
            "Requirement already satisfied: jmespath<1.0.0,>=0.7.1 in /usr/local/lib/python3.6/dist-packages (from boto3->smart-open>=1.2.1->gensim) (0.9.5)\n",
            "Requirement already satisfied: botocore<1.16.0,>=1.15.23 in /usr/local/lib/python3.6/dist-packages (from boto3->smart-open>=1.2.1->gensim) (1.15.23)\n",
            "Requirement already satisfied: google-resumable-media<0.5.0dev,>=0.3.1 in /usr/local/lib/python3.6/dist-packages (from google-cloud-storage->smart-open>=1.2.1->gensim) (0.4.1)\n",
            "Requirement already satisfied: google-cloud-core<2.0dev,>=1.0.0 in /usr/local/lib/python3.6/dist-packages (from google-cloud-storage->smart-open>=1.2.1->gensim) (1.0.3)\n",
            "Requirement already satisfied: google-auth>=1.2.0 in /usr/local/lib/python3.6/dist-packages (from google-cloud-storage->smart-open>=1.2.1->gensim) (1.7.2)\n",
            "Requirement already satisfied: python-dateutil<3.0.0,>=2.1 in /usr/local/lib/python3.6/dist-packages (from botocore<1.16.0,>=1.15.23->boto3->smart-open>=1.2.1->gensim) (2.8.1)\n",
            "Requirement already satisfied: docutils<0.16,>=0.10 in /usr/local/lib/python3.6/dist-packages (from botocore<1.16.0,>=1.15.23->boto3->smart-open>=1.2.1->gensim) (0.15.2)\n",
            "Requirement already satisfied: google-api-core<2.0.0dev,>=1.14.0 in /usr/local/lib/python3.6/dist-packages (from google-cloud-core<2.0dev,>=1.0.0->google-cloud-storage->smart-open>=1.2.1->gensim) (1.16.0)\n",
            "Requirement already satisfied: pyasn1-modules>=0.2.1 in /usr/local/lib/python3.6/dist-packages (from google-auth>=1.2.0->google-cloud-storage->smart-open>=1.2.1->gensim) (0.2.8)\n",
            "Requirement already satisfied: cachetools<3.2,>=2.0.0 in /usr/local/lib/python3.6/dist-packages (from google-auth>=1.2.0->google-cloud-storage->smart-open>=1.2.1->gensim) (3.1.1)\n",
            "Requirement already satisfied: rsa<4.1,>=3.1.4 in /usr/local/lib/python3.6/dist-packages (from google-auth>=1.2.0->google-cloud-storage->smart-open>=1.2.1->gensim) (4.0)\n",
            "Requirement already satisfied: setuptools>=40.3.0 in /usr/local/lib/python3.6/dist-packages (from google-auth>=1.2.0->google-cloud-storage->smart-open>=1.2.1->gensim) (46.0.0)\n",
            "Requirement already satisfied: pytz in /usr/local/lib/python3.6/dist-packages (from google-api-core<2.0.0dev,>=1.14.0->google-cloud-core<2.0dev,>=1.0.0->google-cloud-storage->smart-open>=1.2.1->gensim) (2018.9)\n",
            "Requirement already satisfied: googleapis-common-protos<2.0dev,>=1.6.0 in /usr/local/lib/python3.6/dist-packages (from google-api-core<2.0.0dev,>=1.14.0->google-cloud-core<2.0dev,>=1.0.0->google-cloud-storage->smart-open>=1.2.1->gensim) (1.51.0)\n",
            "Requirement already satisfied: protobuf>=3.4.0 in /usr/local/lib/python3.6/dist-packages (from google-api-core<2.0.0dev,>=1.14.0->google-cloud-core<2.0dev,>=1.0.0->google-cloud-storage->smart-open>=1.2.1->gensim) (3.10.0)\n",
            "Requirement already satisfied: pyasn1<0.5.0,>=0.4.6 in /usr/local/lib/python3.6/dist-packages (from pyasn1-modules>=0.2.1->google-auth>=1.2.0->google-cloud-storage->smart-open>=1.2.1->gensim) (0.4.8)\n"
          ],
          "name": "stdout"
        }
      ]
    },
    {
      "cell_type": "code",
      "metadata": {
        "id": "wsP3qO0MMhIf",
        "colab_type": "code",
        "colab": {
          "base_uri": "https://localhost:8080/",
          "height": 89
        },
        "outputId": "3eb79a29-6259-4b0c-f67c-4b5752200720"
      },
      "source": [
        "# モデルのロード\n",
        "from gensim.models import KeyedVectors\n",
        "from gensim.test.utils import datapath\n",
        "\n",
        "nwjc_model = KeyedVectors.load_word2vec_format(\n",
        "    datapath('/content/chive-1.0-mc5-20190314.txt'),\n",
        "    binary=False\n",
        ")\n",
        "\n",
        "# 語数, 次元数\n",
        "print(len(nwjc_model.vocab), nwjc_model.vector_size)"
      ],
      "execution_count": 4,
      "outputs": [
        {
          "output_type": "stream",
          "text": [
            "/usr/local/lib/python3.6/dist-packages/smart_open/smart_open_lib.py:410: UserWarning: This function is deprecated, use smart_open.open instead. See the migration notes for details: https://github.com/RaRe-Technologies/smart_open/blob/master/README.rst#migrating-to-the-new-open-function\n",
            "  'See the migration notes for details: %s' % _MIGRATION_NOTES_URL\n"
          ],
          "name": "stderr"
        },
        {
          "output_type": "stream",
          "text": [
            "3644628 300\n"
          ],
          "name": "stdout"
        }
      ]
    },
    {
      "cell_type": "code",
      "metadata": {
        "id": "RoOldYwgMqTH",
        "colab_type": "code",
        "colab": {
          "base_uri": "https://localhost:8080/",
          "height": 89
        },
        "outputId": "cd9ae3b8-0a88-4547-f608-dddfcda69573"
      },
      "source": [
        "print(nwjc_model.most_similar('平成', topn=5))"
      ],
      "execution_count": 5,
      "outputs": [
        {
          "output_type": "stream",
          "text": [
            "/usr/local/lib/python3.6/dist-packages/gensim/matutils.py:737: FutureWarning: Conversion of the second argument of issubdtype from `int` to `np.signedinteger` is deprecated. In future, it will be treated as `np.int64 == np.dtype(int).type`.\n",
            "  if np.issubdtype(vec.dtype, np.int):\n"
          ],
          "name": "stderr"
        },
        {
          "output_type": "stream",
          "text": [
            "[('年度', 0.8092531561851501), ('平成元年', 0.7409119009971619), ('同年', 0.6042426824569702), ('基本計画', 0.5917632579803467), ('別紙', 0.590812087059021)]\n"
          ],
          "name": "stdout"
        }
      ]
    },
    {
      "cell_type": "code",
      "metadata": {
        "id": "EfEdxrB3MrV_",
        "colab_type": "code",
        "colab": {
          "base_uri": "https://localhost:8080/",
          "height": 89
        },
        "outputId": "98a162f4-698d-4341-8f9e-d84972f6caa1"
      },
      "source": [
        "print(nwjc_model.most_similar(positive=['兄弟', '女'], negative=['男'], topn=5))"
      ],
      "execution_count": 6,
      "outputs": [
        {
          "output_type": "stream",
          "text": [
            "/usr/local/lib/python3.6/dist-packages/gensim/matutils.py:737: FutureWarning: Conversion of the second argument of issubdtype from `int` to `np.signedinteger` is deprecated. In future, it will be treated as `np.int64 == np.dtype(int).type`.\n",
            "  if np.issubdtype(vec.dtype, np.int):\n"
          ],
          "name": "stderr"
        },
        {
          "output_type": "stream",
          "text": [
            "[('姉妹', 0.7687463164329529), ('兄妹', 0.7484474182128906), ('姉弟', 0.715774416923523), ('双子', 0.642593264579773), ('妹', 0.6402267217636108)]\n"
          ],
          "name": "stdout"
        }
      ]
    },
    {
      "cell_type": "markdown",
      "metadata": {
        "id": "H0HKRVgeYTZL",
        "colab_type": "text"
      },
      "source": [
        "# [Pythonで形態素解析器Sudachiを使う (SudachiPy)](https://ohke.hateblo.jp/entry/2019/03/09/101500)"
      ]
    },
    {
      "cell_type": "markdown",
      "metadata": {
        "id": "yRx2c7G7Y-zY",
        "colab_type": "text"
      },
      "source": [
        "## [SudachiPy](https://github.com/WorksApplications/SudachiPy)"
      ]
    },
    {
      "cell_type": "code",
      "metadata": {
        "id": "AfsWEexPYg6I",
        "colab_type": "code",
        "colab": {
          "base_uri": "https://localhost:8080/",
          "height": 191
        },
        "outputId": "3290fbf1-b239-45fe-9782-5f1c45279708"
      },
      "source": [
        "!pip install SudachiPy"
      ],
      "execution_count": 7,
      "outputs": [
        {
          "output_type": "stream",
          "text": [
            "Collecting SudachiPy\n",
            "\u001b[?25l  Downloading https://files.pythonhosted.org/packages/96/b8/1ac7e332c3e89840638fafb82de1101dbd55ed6514005a7a0b0a36af7b97/SudachiPy-0.4.3-py3-none-any.whl (73kB)\n",
            "\u001b[K     |████████████████████████████████| 81kB 2.3MB/s \n",
            "\u001b[?25hCollecting dartsclone~=0.9.0\n",
            "\u001b[?25l  Downloading https://files.pythonhosted.org/packages/6d/34/987a076369ed086ee953e2f0b9ab5ff3e1a682ba4f781678ac5648144896/dartsclone-0.9.0-cp36-cp36m-manylinux1_x86_64.whl (474kB)\n",
            "\u001b[K     |████████████████████████████████| 481kB 7.7MB/s \n",
            "\u001b[?25hRequirement already satisfied: sortedcontainers~=2.1.0 in /usr/local/lib/python3.6/dist-packages (from SudachiPy) (2.1.0)\n",
            "Requirement already satisfied: Cython in /usr/local/lib/python3.6/dist-packages (from dartsclone~=0.9.0->SudachiPy) (0.29.15)\n",
            "Installing collected packages: dartsclone, SudachiPy\n",
            "Successfully installed SudachiPy-0.4.3 dartsclone-0.9.0\n"
          ],
          "name": "stdout"
        }
      ]
    },
    {
      "cell_type": "code",
      "metadata": {
        "id": "d7nPg4AOY5lZ",
        "colab_type": "code",
        "colab": {
          "base_uri": "https://localhost:8080/",
          "height": 260
        },
        "outputId": "90965e5e-7bf3-44c0-fdb4-770c097016a7"
      },
      "source": [
        "!pip install https://object-storage.tyo2.conoha.io/v1/nc_2520839e1f9641b08211a5c85243124a/sudachi/SudachiDict_core-20200127.tar.gz"
      ],
      "execution_count": 8,
      "outputs": [
        {
          "output_type": "stream",
          "text": [
            "Collecting https://object-storage.tyo2.conoha.io/v1/nc_2520839e1f9641b08211a5c85243124a/sudachi/SudachiDict_core-20200127.tar.gz\n",
            "\u001b[?25l  Downloading https://object-storage.tyo2.conoha.io/v1/nc_2520839e1f9641b08211a5c85243124a/sudachi/SudachiDict_core-20200127.tar.gz (70.8MB)\n",
            "\u001b[K     |████████████████████████████████| 70.8MB 63kB/s \n",
            "\u001b[?25hRequirement already satisfied: SudachiPy>=0.2.1 in /usr/local/lib/python3.6/dist-packages (from SudachiDict-core==20200127) (0.4.3)\n",
            "Requirement already satisfied: sortedcontainers~=2.1.0 in /usr/local/lib/python3.6/dist-packages (from SudachiPy>=0.2.1->SudachiDict-core==20200127) (2.1.0)\n",
            "Requirement already satisfied: dartsclone~=0.9.0 in /usr/local/lib/python3.6/dist-packages (from SudachiPy>=0.2.1->SudachiDict-core==20200127) (0.9.0)\n",
            "Requirement already satisfied: Cython in /usr/local/lib/python3.6/dist-packages (from dartsclone~=0.9.0->SudachiPy>=0.2.1->SudachiDict-core==20200127) (0.29.15)\n",
            "Building wheels for collected packages: SudachiDict-core\n",
            "  Building wheel for SudachiDict-core (setup.py) ... \u001b[?25l\u001b[?25hdone\n",
            "  Created wheel for SudachiDict-core: filename=SudachiDict_core-20200127-cp36-none-any.whl size=70963938 sha256=4dca4cc171b3d1cc47bddcce480829c176e2ddbbe3ec03dd604f1d1e56ac0505\n",
            "  Stored in directory: /root/.cache/pip/wheels/98/18/11/6ecccec32a956aaf13019750a023dec5898095793d18d10322\n",
            "Successfully built SudachiDict-core\n",
            "Installing collected packages: SudachiDict-core\n",
            "Successfully installed SudachiDict-core-20200127\n"
          ],
          "name": "stdout"
        }
      ]
    },
    {
      "cell_type": "code",
      "metadata": {
        "id": "eBlKWiInZIqJ",
        "colab_type": "code",
        "colab": {
          "base_uri": "https://localhost:8080/",
          "height": 295
        },
        "outputId": "c2aca97b-1169-48e8-ca77-978918006400"
      },
      "source": [
        "!sudachipy tokenize -h"
      ],
      "execution_count": 10,
      "outputs": [
        {
          "output_type": "stream",
          "text": [
            "usage: sudachipy tokenize [-h] [-r file] [-m {A,B,C}] [-o file] [-a] [-d] [-v]\n",
            "                          [file [file ...]]\n",
            "\n",
            "Tokenize Text\n",
            "\n",
            "positional arguments:\n",
            "  file           text written in utf-8\n",
            "\n",
            "optional arguments:\n",
            "  -h, --help     show this help message and exit\n",
            "  -r file        the setting file in JSON format\n",
            "  -m {A,B,C}     the mode of splitting\n",
            "  -o file        the output file\n",
            "  -a             print all of the fields\n",
            "  -d             print the debug information\n",
            "  -v, --version  print sudachipy version\n"
          ],
          "name": "stdout"
        }
      ]
    },
    {
      "cell_type": "code",
      "metadata": {
        "id": "psE4-uUublAZ",
        "colab_type": "code",
        "colab": {}
      },
      "source": [
        "from sudachipy import tokenizer\n",
        "from sudachipy import dictionary\n",
        "\n",
        "tokenizer_obj = dictionary.Dictionary().create()"
      ],
      "execution_count": 0,
      "outputs": []
    },
    {
      "cell_type": "code",
      "metadata": {
        "id": "Jzp2caGOb0iK",
        "colab_type": "code",
        "colab": {
          "base_uri": "https://localhost:8080/",
          "height": 34
        },
        "outputId": "00021612-37c6-4bdd-a0fc-f0cd7e2f90bd"
      },
      "source": [
        "# Multi-granular tokenization\n",
        "# using `system_core.dic` or `system_full.dic` version 20190781\n",
        "# you may not be able to replicate this particular example due to dictionary you use\n",
        "\n",
        "mode = tokenizer.Tokenizer.SplitMode.C\n",
        "[m.surface() for m in tokenizer_obj.tokenize(\"国家公務員\", mode)]\n",
        "# => ['国家公務員']"
      ],
      "execution_count": 13,
      "outputs": [
        {
          "output_type": "execute_result",
          "data": {
            "text/plain": [
              "['国家公務員']"
            ]
          },
          "metadata": {
            "tags": []
          },
          "execution_count": 13
        }
      ]
    },
    {
      "cell_type": "code",
      "metadata": {
        "id": "hXi8W575b4aS",
        "colab_type": "code",
        "colab": {
          "base_uri": "https://localhost:8080/",
          "height": 34
        },
        "outputId": "123097c5-80a4-4802-9104-cdf7ceb084b0"
      },
      "source": [
        "mode = tokenizer.Tokenizer.SplitMode.B\n",
        "[m.surface() for m in tokenizer_obj.tokenize(\"国家公務員\", mode)]\n",
        "# => ['国家', '公務員']"
      ],
      "execution_count": 14,
      "outputs": [
        {
          "output_type": "execute_result",
          "data": {
            "text/plain": [
              "['国家', '公務員']"
            ]
          },
          "metadata": {
            "tags": []
          },
          "execution_count": 14
        }
      ]
    },
    {
      "cell_type": "code",
      "metadata": {
        "id": "Di1jV8ltb7Tr",
        "colab_type": "code",
        "colab": {
          "base_uri": "https://localhost:8080/",
          "height": 34
        },
        "outputId": "1bb3c22d-5e76-47e9-caad-5d393870d5db"
      },
      "source": [
        "mode = tokenizer.Tokenizer.SplitMode.A\n",
        "[m.surface() for m in tokenizer_obj.tokenize(\"国家公務員\", mode)]\n",
        "# => ['国家', '公務', '員']"
      ],
      "execution_count": 15,
      "outputs": [
        {
          "output_type": "execute_result",
          "data": {
            "text/plain": [
              "['国家', '公務', '員']"
            ]
          },
          "metadata": {
            "tags": []
          },
          "execution_count": 15
        }
      ]
    },
    {
      "cell_type": "code",
      "metadata": {
        "id": "1slBzS9bb-gq",
        "colab_type": "code",
        "colab": {
          "base_uri": "https://localhost:8080/",
          "height": 34
        },
        "outputId": "c8cedf32-0c78-4e3c-8150-52e7862434ad"
      },
      "source": [
        "# Morpheme information\n",
        "\n",
        "m = tokenizer_obj.tokenize(\"食べ\", mode)[0]\n",
        "\n",
        "m.surface() # => '食べ'"
      ],
      "execution_count": 16,
      "outputs": [
        {
          "output_type": "execute_result",
          "data": {
            "text/plain": [
              "'食べ'"
            ]
          },
          "metadata": {
            "tags": []
          },
          "execution_count": 16
        }
      ]
    },
    {
      "cell_type": "code",
      "metadata": {
        "id": "rLVC2vGgcDTb",
        "colab_type": "code",
        "colab": {
          "base_uri": "https://localhost:8080/",
          "height": 34
        },
        "outputId": "791e428b-4b30-491a-c30a-8c788cd91062"
      },
      "source": [
        "m.dictionary_form() # => '食べる'"
      ],
      "execution_count": 17,
      "outputs": [
        {
          "output_type": "execute_result",
          "data": {
            "text/plain": [
              "'食べる'"
            ]
          },
          "metadata": {
            "tags": []
          },
          "execution_count": 17
        }
      ]
    },
    {
      "cell_type": "code",
      "metadata": {
        "id": "5rAQG-CjcFSz",
        "colab_type": "code",
        "colab": {
          "base_uri": "https://localhost:8080/",
          "height": 34
        },
        "outputId": "df8be1b2-b4d0-42e4-a9fe-98aa4e337d99"
      },
      "source": [
        "m.reading_form() # => 'タベ'"
      ],
      "execution_count": 18,
      "outputs": [
        {
          "output_type": "execute_result",
          "data": {
            "text/plain": [
              "'タベ'"
            ]
          },
          "metadata": {
            "tags": []
          },
          "execution_count": 18
        }
      ]
    },
    {
      "cell_type": "code",
      "metadata": {
        "id": "KjXL5LqycHA6",
        "colab_type": "code",
        "colab": {
          "base_uri": "https://localhost:8080/",
          "height": 34
        },
        "outputId": "ed4d673c-6e9a-457f-ec0c-0baf156d607d"
      },
      "source": [
        "m.part_of_speech() # => ['動詞', '一般', '*', '*', '下一段-バ行', '連用形-一般']"
      ],
      "execution_count": 19,
      "outputs": [
        {
          "output_type": "execute_result",
          "data": {
            "text/plain": [
              "['動詞', '一般', '*', '*', '下一段-バ行', '連用形-一般']"
            ]
          },
          "metadata": {
            "tags": []
          },
          "execution_count": 19
        }
      ]
    },
    {
      "cell_type": "code",
      "metadata": {
        "id": "a3uzrIogcK7r",
        "colab_type": "code",
        "colab": {
          "base_uri": "https://localhost:8080/",
          "height": 34
        },
        "outputId": "1b5d8e31-5f8e-4930-9880-c022d759a433"
      },
      "source": [
        "# Normalization\n",
        "\n",
        "tokenizer_obj.tokenize(\"附属\", mode)[0].normalized_form()\n",
        "# => '付属'"
      ],
      "execution_count": 20,
      "outputs": [
        {
          "output_type": "execute_result",
          "data": {
            "text/plain": [
              "'付属'"
            ]
          },
          "metadata": {
            "tags": []
          },
          "execution_count": 20
        }
      ]
    },
    {
      "cell_type": "code",
      "metadata": {
        "id": "xgbKl8PncNE1",
        "colab_type": "code",
        "colab": {
          "base_uri": "https://localhost:8080/",
          "height": 34
        },
        "outputId": "a301f14c-cff5-49c1-a005-ba1d0afd437c"
      },
      "source": [
        "tokenizer_obj.tokenize(\"SUMMER\", mode)[0].normalized_form()\n",
        "# => 'サマー'"
      ],
      "execution_count": 21,
      "outputs": [
        {
          "output_type": "execute_result",
          "data": {
            "text/plain": [
              "'サマー'"
            ]
          },
          "metadata": {
            "tags": []
          },
          "execution_count": 21
        }
      ]
    },
    {
      "cell_type": "code",
      "metadata": {
        "id": "Zw8QM0YhcPeq",
        "colab_type": "code",
        "colab": {
          "base_uri": "https://localhost:8080/",
          "height": 34
        },
        "outputId": "00c25971-9213-4990-a2df-029902c70cfc"
      },
      "source": [
        "tokenizer_obj.tokenize(\"シュミレーション\", mode)[0].normalized_form()\n",
        "# => 'シミュレーション'"
      ],
      "execution_count": 22,
      "outputs": [
        {
          "output_type": "execute_result",
          "data": {
            "text/plain": [
              "'シミュレーション'"
            ]
          },
          "metadata": {
            "tags": []
          },
          "execution_count": 22
        }
      ]
    },
    {
      "cell_type": "code",
      "metadata": {
        "id": "lfmIDzCTdHrS",
        "colab_type": "code",
        "colab": {
          "base_uri": "https://localhost:8080/",
          "height": 243
        },
        "outputId": "eb7825f9-508e-4c0e-9998-86d069dcb704"
      },
      "source": [
        "from sudachipy import tokenizer\n",
        "\n",
        "tokenizer_obj = dictionary.Dictionary().create()\n",
        "print(type(tokenizer_obj))\n",
        "# <class 'sudachipy.tokenizer.Tokenizer'>\n",
        "\n",
        "text = '友人・我孫子とスカイツリーでスパゲティを食った。'\n",
        "\n",
        "mode = tokenizer.Tokenizer.SplitMode.C\n",
        "tokens = tokenizer_obj.tokenize(text, tokenizer.Tokenizer.SplitMode.C)\n",
        "print(type(tokens))\n",
        "# <class 'sudachipy.morphemelist.MorphemeList'>\n",
        "\n",
        "for t in tokens:\n",
        "    print(t.surface(), t.part_of_speech(), t.reading_form(), t.normalized_form())"
      ],
      "execution_count": 25,
      "outputs": [
        {
          "output_type": "stream",
          "text": [
            "<class 'sudachipy.tokenizer.Tokenizer'>\n",
            "<class 'sudachipy.morphemelist.MorphemeList'>\n",
            "友人 ['名詞', '普通名詞', '一般', '*', '*', '*'] ユウジン 友人\n",
            "・ ['補助記号', '一般', '*', '*', '*', '*'] ・ ・\n",
            "我孫子 ['名詞', '固有名詞', '地名', '一般', '*', '*'] アビコ 我孫子\n",
            "と ['助詞', '格助詞', '*', '*', '*', '*'] ト と\n",
            "スカイツリー ['名詞', '固有名詞', '一般', '*', '*', '*'] スカイツリー スカイツリー\n",
            "で ['助詞', '格助詞', '*', '*', '*', '*'] デ で\n",
            "スパゲティ ['名詞', '普通名詞', '一般', '*', '*', '*'] スパゲティ スパゲッティ\n",
            "を ['助詞', '格助詞', '*', '*', '*', '*'] ヲ を\n",
            "食っ ['動詞', '一般', '*', '*', '五段-ワア行', '連用形-促音便'] クッ 食う\n",
            "た ['助動詞', '*', '*', '*', '助動詞-タ', '終止形-一般'] タ た\n",
            "。 ['補助記号', '句点', '*', '*', '*', '*'] 。 。\n"
          ],
          "name": "stdout"
        }
      ]
    }
  ]
}